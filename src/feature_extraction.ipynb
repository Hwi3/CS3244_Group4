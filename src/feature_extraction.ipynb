{
 "cells": [
  {
   "cell_type": "markdown",
   "metadata": {},
   "source": [
    "The purpose of Feature Extraction is to firstly turn raw, complex or messy images into meaningful information by learning patterns or information. We will also consider the different layers of our CNN. \n",
    "Lower Layer -> Detect lines, corners, and textures.\n",
    "Middle Layer -> Detect parts of clothing, like zippers or buttons.\n",
    "Topmost layer -> Detect whole object shapes or classes.\n",
    "\n",
    "I will begin by convering the vector of length 784 into a 28x28 image to show how an image would look like (can remove this portion if used in EDA)\n",
    "\n",
    "Next, I will compute statistical features such as the Mean Pixel Value, Standard Deviation, Pixel Intensity, and Edge Counts (also can remove if used in EDA)\n",
    "\n",
    "More importantly, I will perform a Histogram of Oriented Gradients (HOG) to extract shape and edge information. \n",
    "\n",
    "I read online that we can can possibly use a pretrained ResNet to do Feature Extraction by removing the final classification layer but we would need to convert our greyscale MNIST dataset to RGB -> then feed this into a SVM/Random Forest?"
   ]
  },
  {
   "cell_type": "code",
   "execution_count": 19,
   "metadata": {},
   "outputs": [
    {
     "data": {
      "text/html": [
       "<div>\n",
       "<style scoped>\n",
       "    .dataframe tbody tr th:only-of-type {\n",
       "        vertical-align: middle;\n",
       "    }\n",
       "\n",
       "    .dataframe tbody tr th {\n",
       "        vertical-align: top;\n",
       "    }\n",
       "\n",
       "    .dataframe thead th {\n",
       "        text-align: right;\n",
       "    }\n",
       "</style>\n",
       "<table border=\"1\" class=\"dataframe\">\n",
       "  <thead>\n",
       "    <tr style=\"text-align: right;\">\n",
       "      <th></th>\n",
       "      <th>label</th>\n",
       "      <th>pixel1</th>\n",
       "      <th>pixel2</th>\n",
       "      <th>pixel3</th>\n",
       "      <th>pixel4</th>\n",
       "      <th>pixel5</th>\n",
       "      <th>pixel6</th>\n",
       "      <th>pixel7</th>\n",
       "      <th>pixel8</th>\n",
       "      <th>pixel9</th>\n",
       "      <th>...</th>\n",
       "      <th>pixel775</th>\n",
       "      <th>pixel776</th>\n",
       "      <th>pixel777</th>\n",
       "      <th>pixel778</th>\n",
       "      <th>pixel779</th>\n",
       "      <th>pixel780</th>\n",
       "      <th>pixel781</th>\n",
       "      <th>pixel782</th>\n",
       "      <th>pixel783</th>\n",
       "      <th>pixel784</th>\n",
       "    </tr>\n",
       "  </thead>\n",
       "  <tbody>\n",
       "    <tr>\n",
       "      <th>0</th>\n",
       "      <td>2</td>\n",
       "      <td>0</td>\n",
       "      <td>0</td>\n",
       "      <td>0</td>\n",
       "      <td>0</td>\n",
       "      <td>0</td>\n",
       "      <td>0</td>\n",
       "      <td>0</td>\n",
       "      <td>0</td>\n",
       "      <td>0</td>\n",
       "      <td>...</td>\n",
       "      <td>0</td>\n",
       "      <td>0</td>\n",
       "      <td>0</td>\n",
       "      <td>0</td>\n",
       "      <td>0</td>\n",
       "      <td>0</td>\n",
       "      <td>0</td>\n",
       "      <td>0</td>\n",
       "      <td>0</td>\n",
       "      <td>0</td>\n",
       "    </tr>\n",
       "    <tr>\n",
       "      <th>1</th>\n",
       "      <td>9</td>\n",
       "      <td>0</td>\n",
       "      <td>0</td>\n",
       "      <td>0</td>\n",
       "      <td>0</td>\n",
       "      <td>0</td>\n",
       "      <td>0</td>\n",
       "      <td>0</td>\n",
       "      <td>0</td>\n",
       "      <td>0</td>\n",
       "      <td>...</td>\n",
       "      <td>0</td>\n",
       "      <td>0</td>\n",
       "      <td>0</td>\n",
       "      <td>0</td>\n",
       "      <td>0</td>\n",
       "      <td>0</td>\n",
       "      <td>0</td>\n",
       "      <td>0</td>\n",
       "      <td>0</td>\n",
       "      <td>0</td>\n",
       "    </tr>\n",
       "    <tr>\n",
       "      <th>2</th>\n",
       "      <td>6</td>\n",
       "      <td>0</td>\n",
       "      <td>0</td>\n",
       "      <td>0</td>\n",
       "      <td>0</td>\n",
       "      <td>0</td>\n",
       "      <td>0</td>\n",
       "      <td>0</td>\n",
       "      <td>5</td>\n",
       "      <td>0</td>\n",
       "      <td>...</td>\n",
       "      <td>0</td>\n",
       "      <td>0</td>\n",
       "      <td>0</td>\n",
       "      <td>30</td>\n",
       "      <td>43</td>\n",
       "      <td>0</td>\n",
       "      <td>0</td>\n",
       "      <td>0</td>\n",
       "      <td>0</td>\n",
       "      <td>0</td>\n",
       "    </tr>\n",
       "    <tr>\n",
       "      <th>3</th>\n",
       "      <td>0</td>\n",
       "      <td>0</td>\n",
       "      <td>0</td>\n",
       "      <td>0</td>\n",
       "      <td>1</td>\n",
       "      <td>2</td>\n",
       "      <td>0</td>\n",
       "      <td>0</td>\n",
       "      <td>0</td>\n",
       "      <td>0</td>\n",
       "      <td>...</td>\n",
       "      <td>3</td>\n",
       "      <td>0</td>\n",
       "      <td>0</td>\n",
       "      <td>0</td>\n",
       "      <td>0</td>\n",
       "      <td>1</td>\n",
       "      <td>0</td>\n",
       "      <td>0</td>\n",
       "      <td>0</td>\n",
       "      <td>0</td>\n",
       "    </tr>\n",
       "    <tr>\n",
       "      <th>4</th>\n",
       "      <td>3</td>\n",
       "      <td>0</td>\n",
       "      <td>0</td>\n",
       "      <td>0</td>\n",
       "      <td>0</td>\n",
       "      <td>0</td>\n",
       "      <td>0</td>\n",
       "      <td>0</td>\n",
       "      <td>0</td>\n",
       "      <td>0</td>\n",
       "      <td>...</td>\n",
       "      <td>0</td>\n",
       "      <td>0</td>\n",
       "      <td>0</td>\n",
       "      <td>0</td>\n",
       "      <td>0</td>\n",
       "      <td>0</td>\n",
       "      <td>0</td>\n",
       "      <td>0</td>\n",
       "      <td>0</td>\n",
       "      <td>0</td>\n",
       "    </tr>\n",
       "  </tbody>\n",
       "</table>\n",
       "<p>5 rows × 785 columns</p>\n",
       "</div>"
      ],
      "text/plain": [
       "   label  pixel1  pixel2  pixel3  pixel4  pixel5  pixel6  pixel7  pixel8  \\\n",
       "0      2       0       0       0       0       0       0       0       0   \n",
       "1      9       0       0       0       0       0       0       0       0   \n",
       "2      6       0       0       0       0       0       0       0       5   \n",
       "3      0       0       0       0       1       2       0       0       0   \n",
       "4      3       0       0       0       0       0       0       0       0   \n",
       "\n",
       "   pixel9  ...  pixel775  pixel776  pixel777  pixel778  pixel779  pixel780  \\\n",
       "0       0  ...         0         0         0         0         0         0   \n",
       "1       0  ...         0         0         0         0         0         0   \n",
       "2       0  ...         0         0         0        30        43         0   \n",
       "3       0  ...         3         0         0         0         0         1   \n",
       "4       0  ...         0         0         0         0         0         0   \n",
       "\n",
       "   pixel781  pixel782  pixel783  pixel784  \n",
       "0         0         0         0         0  \n",
       "1         0         0         0         0  \n",
       "2         0         0         0         0  \n",
       "3         0         0         0         0  \n",
       "4         0         0         0         0  \n",
       "\n",
       "[5 rows x 785 columns]"
      ]
     },
     "execution_count": 19,
     "metadata": {},
     "output_type": "execute_result"
    }
   ],
   "source": [
    "import pandas as pd\n",
    "import numpy as np\n",
    "import cv2\n",
    "import matplotlib.pyplot as plt\n",
    "from skimage.feature import hog\n",
    "\n",
    "df_train = pd.read_csv(\"../data/fashion-mnist_train.csv\")\n",
    "df_test = pd.read_csv(\"../data/fashion-mnist_test.csv\")\n",
    "df_train.head()\n"
   ]
  },
  {
   "cell_type": "code",
   "execution_count": null,
   "metadata": {},
   "outputs": [
    {
     "name": "stdout",
     "output_type": "stream",
     "text": [
      "(60000, 785)\n",
      "(10000, 785)\n"
     ]
    }
   ],
   "source": [
    "print(df_train.shape)\n",
    "print(df_test.shape)"
   ]
  },
  {
   "cell_type": "markdown",
   "metadata": {},
   "source": [
    "Train: 60000 rows of 1 label + 784 pixels to be converted into a 28x28 image\n",
    "Test: 10000 rows of 1 label + 784 pixels to be converted into a 28x28 image"
   ]
  },
  {
   "cell_type": "code",
   "execution_count": 9,
   "metadata": {},
   "outputs": [],
   "source": [
    "fashion_mnist_labels = {\n",
    "    0: \"T-shirt/top\",\n",
    "    1: \"Trouser\",\n",
    "    2: \"Pullover\",\n",
    "    3: \"Dress\",\n",
    "    4: \"Coat\",\n",
    "    5: \"Sandal\",\n",
    "    6: \"Shirt\",\n",
    "    7: \"Sneaker\",\n",
    "    8: \"Bag\",\n",
    "    9: \"Ankle boot\"\n",
    "}"
   ]
  },
  {
   "cell_type": "code",
   "execution_count": null,
   "metadata": {},
   "outputs": [
    {
     "data": {
      "image/png": "[encoded data removed]",
      "text/plain": [
       "<Figure size 640x480 with 1 Axes>"
      ]
     },
     "metadata": {},
     "output_type": "display_data"
    }
   ],
   "source": [
    "image = df_train.iloc[0, 1:].to_numpy().reshape(28, 28) # Reshape only 1 image into 28x28 pixels\n",
    "image_label = fashion_mnist_labels[df_train.iloc[0, 0]]\n",
    "\n",
    "plt.imshow(image, cmap='gray')\n",
    "plt.title(f\"Label: {image_label}\")\n",
    "plt.show()"
   ]
  },
  {
   "cell_type": "code",
   "execution_count": 12,
   "metadata": {},
   "outputs": [],
   "source": [
    "def extract_hog_features(images):\n",
    "    hog_features = []\n",
    "    for img in images:\n",
    "        fd = hog(img, pixels_per_cell=(4, 4), cells_per_block=(2, 2), orientations=9, block_norm='L2-Hys')\n",
    "        hog_features.append(fd)\n",
    "    return np.array(hog_features)"
   ]
  },
  {
   "cell_type": "code",
   "execution_count": 15,
   "metadata": {},
   "outputs": [
    {
     "name": "stdout",
     "output_type": "stream",
     "text": [
      "Shape of HOG feature matrix: (1000, 1296)\n"
     ]
    }
   ],
   "source": [
    "# Extract all pixel values (drop label column)\n",
    "X_train_raw = df_train.iloc[:, 1:].values  # feature shape (60000rows, 784 col)\n",
    "y_train = df_train.iloc[:, 0].values       # label shape (60000rows,1 col)\n",
    "\n",
    "\n",
    "X_train_images = X_train_raw.reshape(-1, 28, 28) # Reshape all rows to (28, 28)\n",
    "\n",
    "\n",
    "X_train_images = X_train_images / 255.0 # Normalize\n",
    "\n",
    "# Extract HOG features from first 1000 images (for speed)\n",
    "X_hog = extract_hog_features(X_train_images[:1000])\n",
    "# X_hog = extract_hog_features(X_train_images)  for full dataset\n",
    "y_hog = y_train[:1000]\n",
    "\n",
    "print(\"Shape of HOG feature matrix:\", X_hog.shape)\n"
   ]
  },
  {
   "cell_type": "markdown",
   "metadata": {},
   "source": [
    "We used the first 1000 images of the dataset to train our HOG to extract important features, hence the 1000 rows of 1296 columns (flat vector). The features in X_hog are not images anymore, but some abstract numerical representation of gradient directions and edge strengths. We can try visualising it using:"
   ]
  },
  {
   "cell_type": "code",
   "execution_count": null,
   "metadata": {},
   "outputs": [
    {
     "data": {
      "image/png": "[encoded data removed]",
      "text/plain": [
       "<Figure size 800x400 with 2 Axes>"
      ]
     },
     "metadata": {},
     "output_type": "display_data"
    }
   ],
   "source": [
    "from skimage import exposure\n",
    "\n",
    "\n",
    "image = df_train.iloc[0, 1:].values.reshape(28, 28) / 255.0 # Recreate the first image from training data and normalise (optional)\n",
    "\n",
    "# Get both the HOG features and visualization\n",
    "fd, hog_image = hog(image,\n",
    "                    orientations=9,\n",
    "                    pixels_per_cell=(4, 4),\n",
    "                    cells_per_block=(2, 2),\n",
    "                    block_norm='L2-Hys',\n",
    "                    visualize=True)\n",
    "\n",
    "\n",
    "hog_image_rescaled = exposure.rescale_intensity(hog_image, in_range=(0, 10)) # Rescale image\n",
    "\n",
    "# Plot\n",
    "plt.figure(figsize=(8, 4))\n",
    "plt.subplot(1, 2, 1)\n",
    "plt.imshow(image, cmap='gray')\n",
    "plt.title(\"Original Image\")\n",
    "\n",
    "plt.subplot(1, 2, 2)\n",
    "plt.imshow(hog_image_rescaled, cmap='gray')\n",
    "plt.title(\"HOG Visualization\")\n",
    "\n",
    "plt.show()"
   ]
  },
  {
   "cell_type": "markdown",
   "metadata": {},
   "source": [
    "On the right image:\n",
    "Bright spots represent a sharp gradient/edge in the original image (strong edge directions)\n",
    "Dark spots mean there isn't really a change in gradient/flat.\n",
    "\n",
    "BUT textures are not captured, smaller features like buttons or zippers are also not captured for the middle layer."
   ]
  },
  {
   "cell_type": "markdown",
   "metadata": {},
   "source": [
    "Next, I will use SIFT to extract key structures like corners and blobs, focusing on small patterns/details as keypoints. SIFT is also very robust to noise, rotation and zoom. Very good for analysing local parts.\n",
    "\n",
    "I will\n",
    "1. Use inbuilt SIFT functions to detect key points and descriptors within the SIFT function\n",
    "2. Visualise SIFT by comparing to the original 28x28 greyscale image again"
   ]
  },
  {
   "cell_type": "code",
   "execution_count": 20,
   "metadata": {},
   "outputs": [],
   "source": [
    "def extract_sift_features(images):\n",
    "    sift = cv2.SIFT_create()\n",
    "    all_features = []\n",
    "\n",
    "    for img in images:\n",
    "        kp, des = sift.detectAndCompute(img, None)\n",
    "        if des is not None:\n",
    "            # Take mean of all descriptors in this image\n",
    "            feature = np.mean(des, axis=0)\n",
    "        else:\n",
    "            # No keypoints found; use zeros\n",
    "            feature = np.zeros(128)\n",
    "        all_features.append(feature)\n",
    "\n",
    "    return np.array(all_features)"
   ]
  },
  {
   "cell_type": "code",
   "execution_count": null,
   "metadata": {},
   "outputs": [
    {
     "name": "stdout",
     "output_type": "stream",
     "text": [
      "Shape of SIFT feature matrix: (1000, 128)\n"
     ]
    }
   ],
   "source": [
    "# Implement SIFT extraction on first 1000 images\n",
    "X_raw = df_train.iloc[:1000, 1:].values.reshape(-1, 28, 28).astype(np.uint8)\n",
    "y = df_train.iloc[:1000, 0].values\n",
    "\n",
    "X_sift = extract_sift_features(X_raw)\n",
    "print(\"Shape of SIFT feature matrix:\", X_sift.shape) "
   ]
  },
  {
   "cell_type": "markdown",
   "metadata": {},
   "source": [
    "This represents the 128-dimensional feature vector for each keypoint in each image for the first 1000 rows/images."
   ]
  },
  {
   "cell_type": "code",
   "execution_count": null,
   "metadata": {},
   "outputs": [
    {
     "data": {
      "image/png": "[encoded data removed]",
      "text/plain": [
       "<Figure size 640x480 with 1 Axes>"
      ]
     },
     "metadata": {},
     "output_type": "display_data"
    },
    {
     "data": {
      "image/png": "[encoded data removed]",
      "text/plain": [
       "<Figure size 600x600 with 1 Axes>"
      ]
     },
     "metadata": {},
     "output_type": "display_data"
    }
   ],
   "source": [
    "# Show first image and label\n",
    "image = df_train.iloc[0, 1:].values.reshape(28, 28).astype(np.uint8)\n",
    "label = df_train.iloc[0, 0]\n",
    "\n",
    "image = X_raw[0] # Select the first image as an example\n",
    "sift = cv2.SIFT_create()\n",
    "keypoints, descriptors = sift.detectAndCompute(image, None) # Detect keypoints and descriptors\n",
    "\n",
    "# Draw keypoints on the image\n",
    "image_with_kp = cv2.drawKeypoints(\n",
    "    image, \n",
    "    keypoints, \n",
    "    None, \n",
    "    flags=cv2.DRAW_MATCHES_FLAGS_DRAW_RICH_KEYPOINTS\n",
    ")\n",
    "\n",
    "plt.imshow(image, cmap='gray')\n",
    "plt.title(f\"Label: {image_label}\")\n",
    "plt.show()\n",
    "\n",
    "# Show the result of SIFT\n",
    "plt.figure(figsize=(6, 6))\n",
    "plt.imshow(image_with_kp, cmap='gray')\n",
    "plt.title(\"SIFT Keypoints\")\n",
    "plt.axis('off')\n",
    "plt.show()"
   ]
  }
 ],
 "metadata": {
  "kernelspec": {
   "display_name": "Python 3",
   "language": "python",
   "name": "python3"
  },
  "language_info": {
   "codemirror_mode": {
    "name": "ipython",
    "version": 3
   },
   "file_extension": ".py",
   "mimetype": "text/x-python",
   "name": "python",
   "nbconvert_exporter": "python",
   "pygments_lexer": "ipython3",
   "version": "3.10.11"
  }
 },
 "nbformat": 4,
 "nbformat_minor": 2
}
