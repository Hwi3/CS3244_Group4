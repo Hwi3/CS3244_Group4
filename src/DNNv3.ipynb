{
 "cells": [
  {
   "cell_type": "code",
   "metadata": {
    "ExecuteTime": {
     "end_time": "2025-03-31T12:33:18.454297Z",
     "start_time": "2025-03-31T12:33:18.450694Z"
    }
   },
   "source": [
    "import random\n",
    "from PIL import Image\n",
    "import numpy as np\n",
    "import pandas as pd\n",
    "import matplotlib.pyplot as plt\n",
    "\n",
    "import torch\n",
    "import torch.nn as nn\n",
    "import torch.nn.functional as F\n",
    "from torch.utils.data import Dataset, DataLoader\n",
    "\n",
    "from torchvision import transforms\n",
    "from torchvision.transforms.functional import to_pil_image\n",
    "\n",
    "from sklearn.preprocessing import label_binarize\n",
    "from sklearn.metrics import classification_report, confusion_matrix, ConfusionMatrixDisplay, roc_auc_score, log_loss, average_precision_score\n",
    "\n",
    "DEVICE = torch.device(\"cuda\" if torch.cuda.is_available() else \"cpu\")\n",
    "print(DEVICE)"
   ],
   "outputs": [
    {
     "name": "stdout",
     "output_type": "stream",
     "text": [
      "cuda\n"
     ]
    }
   ],
   "execution_count": 54
  },
  {
   "cell_type": "code",
   "metadata": {
    "ExecuteTime": {
     "end_time": "2025-03-31T12:33:19.075878Z",
     "start_time": "2025-03-31T12:33:19.072521Z"
    }
   },
   "source": [
    "def data_augmentation(rot=25, crop=True, hflip=True, vflip=True):\n",
    "    transform_list = []\n",
    "    # if rot:\n",
    "    #     transform_list.append(transforms.RandomRotation(rot))\n",
    "    # if hflip:\n",
    "    #     transform_list.append(transforms.RandomHorizontalFlip())\n",
    "    # if vflip:\n",
    "    #     transform_list.append(transforms.RandomVerticalFlip())\n",
    "\n",
    "    transform_list.append(transforms.ToTensor())\n",
    "    transform_list.append(transforms.Normalize((0.1307,), (0.3081,)))\n",
    "\n",
    "    return transforms.Compose(transform_list)"
   ],
   "outputs": [],
   "execution_count": 55
  },
  {
   "cell_type": "code",
   "metadata": {
    "ExecuteTime": {
     "end_time": "2025-03-31T12:33:22.401317Z",
     "start_time": "2025-03-31T12:33:20.128149Z"
    }
   },
   "source": [
    "class FashionMNISTDataset(Dataset):\n",
    "    def __init__(self, csv_file, transform=None):\n",
    "        data = csv_file.values\n",
    "        self.labels = data[:, 0]\n",
    "        self.images = data[:, 1:].reshape(-1, 28, 28).astype(np.uint8)\n",
    "        self.transform = transform\n",
    "\n",
    "    def __len__(self):\n",
    "        return len(self.images)\n",
    "\n",
    "    def __getitem__(self, idx):\n",
    "        label = self.labels[idx]\n",
    "        image = self.images[idx]\n",
    "        image = Image.fromarray(image)  # Convert numpy to PIL\n",
    "\n",
    "        if self.transform:\n",
    "            image = self.transform(image)\n",
    "\n",
    "        return image, label\n",
    "\n",
    "# Load data from csv\n",
    "from torch.utils.data import random_split\n",
    "\n",
    "\n",
    "train_csv = pd.read_csv(\"../data/fashion-mnist_train.csv\")\n",
    "test_csv = pd.read_csv(\"../data/fashion-mnist_test.csv\")\n",
    "train_set = FashionMNISTDataset(train_csv, transform = data_augmentation())\n",
    "test_set = FashionMNISTDataset(test_csv, transform =  data_augmentation())\n",
    "train_size = int(0.8 * len(train_set))\n",
    "val_size = len(train_set) - train_size\n",
    "train_set, val_set = random_split(train_set, [train_size, val_size])\n",
    "\n",
    "train_loader = DataLoader(train_set, batch_size=32, shuffle=True)\n",
    "test_loader = DataLoader(test_set, batch_size=32, shuffle=False)\n",
    "val_loader = DataLoader(val_set, batch_size = 32, shuffle=True)\n",
    "\n",
    "print(\"Train set size:\", len(train_set))\n",
    "print(\"Validation set size:\", len(val_set))\n",
    "print(\"Test set size:\", len(test_set))"
   ],
   "outputs": [
    {
     "name": "stdout",
     "output_type": "stream",
     "text": [
      "Train set size: 48000\n",
      "Validation set size: 12000\n",
      "Test set size: 10000\n"
     ]
    }
   ],
   "execution_count": 56
  },
  {
   "cell_type": "code",
   "metadata": {
    "ExecuteTime": {
     "end_time": "2025-03-31T12:33:28.218762Z",
     "start_time": "2025-03-31T12:33:22.529714Z"
    }
   },
   "source": [
    "#class mapping\n",
    "class_names = {\n",
    "    0: \"T-shirt/top\",\n",
    "    1: \"Trouser\",\n",
    "    2: \"Pullover\",\n",
    "    3: \"Dress\",\n",
    "    4: \"Coat\",\n",
    "    5: \"Sandal\",\n",
    "    6: \"Shirt\",\n",
    "    7: \"Sneaker\",\n",
    "    8: \"Bag\",\n",
    "    9: \"Ankle boot\"\n",
    "}\n",
    "\n",
    "def show_one_per_class(dataset, class_names=None, num_classes=None, rows=2, cols=5):\n",
    "\n",
    "    seen = {}\n",
    "    indices = list(range(len(dataset)))\n",
    "    random.shuffle(indices)\n",
    "\n",
    "    for idx in indices:\n",
    "        _, label = dataset[idx]\n",
    "        label = int(label)\n",
    "        if label not in seen:\n",
    "            seen[label] = idx\n",
    "        if num_classes and len(seen) >= num_classes:\n",
    "            break\n",
    "\n",
    "    # Sort the labels for consistent display\n",
    "    sorted_items = sorted(seen.items(), key=lambda x: x[0])\n",
    "    total = len(sorted_items)\n",
    "\n",
    "    fig, axes = plt.subplots(rows, cols, figsize=(cols * 2, rows * 2))\n",
    "    axes = axes.flatten()\n",
    "\n",
    "    for i, (label, idx) in enumerate(sorted_items):\n",
    "        image, _ = dataset[idx]\n",
    "\n",
    "        if isinstance(image, torch.Tensor):\n",
    "            image = image.clone()\n",
    "            image = image * 0.5 + 0.5  # unnormalize if needed\n",
    "            image = to_pil_image(image)\n",
    "\n",
    "        axes[i].imshow(image)\n",
    "        axes[i].set_title(class_names[label] if class_names else f\"Class {label}\", fontsize=10)\n",
    "        axes[i].axis(\"off\")\n",
    "\n",
    "    for j in range(i + 1, len(axes)):\n",
    "        axes[j].axis(\"off\")\n",
    "\n",
    "    plt.tight_layout()\n",
    "    plt.show()\n",
    "\n",
    "show_one_per_class(train_set, list(class_names.values()))"
   ],
   "outputs": [
    {
     "data": {
      "text/plain": [
       "<Figure size 1000x400 with 10 Axes>"
      ],
      "image/png": "[encoded data removed]"
     },
     "metadata": {},
     "output_type": "display_data"
    }
   ],
   "execution_count": 57
  },
  {
   "cell_type": "markdown",
   "metadata": {},
   "source": [
    "# Model Summary\n",
    "* Architecture includes a CNN + Residual Network + Transformer, mimicking a hybrid ViT\n",
    "* 1 convolutional layer + 1 residual block (from chatgpt, need help confirming)\n",
    "* Ending with 32 feature maps and 14x14 spatial size (from chatgpt, need help confirming)\n",
    "* 2 fully connected blocks of size 12544 (from chatgpt, need helpp confirming)\n",
    "* Final output layer to 10 classes (from chatgpt, need helpp confirming)"
   ]
  },
  {
   "cell_type": "code",
   "metadata": {
    "ExecuteTime": {
     "end_time": "2025-03-31T12:33:28.331910Z",
     "start_time": "2025-03-31T12:33:28.328381Z"
    }
   },
   "source": [
    "# Residual Block\n",
    "class ResidualBlock(nn.Module):\n",
    "    def __init__(self, channels):\n",
    "        super().__init__()\n",
    "        self.conv1 = nn.Conv2d(channels, channels, kernel_size=3, padding=1)\n",
    "        self.bn1 = nn.BatchNorm2d(channels)\n",
    "        self.conv2 = nn.Conv2d(channels, channels, kernel_size=3, padding=1)\n",
    "        self.bn2 = nn.BatchNorm2d(channels)\n",
    "\n",
    "    def forward(self, x):\n",
    "        identity = x\n",
    "        out = F.relu(self.bn1(self.conv1(x)))\n",
    "        out = self.bn2(self.conv2(out))\n",
    "        out += identity\n",
    "        return F.relu(out)"
   ],
   "outputs": [],
   "execution_count": 58
  },
  {
   "cell_type": "code",
   "metadata": {
    "ExecuteTime": {
     "end_time": "2025-03-31T12:33:28.341009Z",
     "start_time": "2025-03-31T12:33:28.336942Z"
    }
   },
   "source": [
    "class TransformerEncoder(nn.Module):\n",
    "    def __init__(self, dim, heads=4, ff_dim=128, dropout=0.1):\n",
    "        super().__init__()\n",
    "        self.attn = nn.MultiheadAttention(embed_dim=dim, num_heads=heads, dropout=dropout, batch_first=True)\n",
    "        self.ff = nn.Sequential(\n",
    "            nn.Linear(dim, ff_dim),\n",
    "            nn.ReLU(),\n",
    "            nn.Linear(ff_dim, dim)\n",
    "        )\n",
    "        self.norm1 = nn.LayerNorm(dim)\n",
    "        self.norm2 = nn.LayerNorm(dim)\n",
    "        self.dropout = nn.Dropout(dropout)\n",
    "\n",
    "    def forward(self, x):\n",
    "        # Self-attention\n",
    "        attn_output, _ = self.attn(x, x, x)\n",
    "        x = self.norm1(x + self.dropout(attn_output))\n",
    "\n",
    "        # Feedforward\n",
    "        ff_output = self.ff(x)\n",
    "        x = self.norm2(x + self.dropout(ff_output))\n",
    "        return x"
   ],
   "outputs": [],
   "execution_count": 59
  },
  {
   "cell_type": "code",
   "metadata": {
    "ExecuteTime": {
     "end_time": "2025-03-31T12:33:28.407897Z",
     "start_time": "2025-03-31T12:33:28.403625Z"
    }
   },
   "source": [
    "class DNNv3(nn.Module):\n",
    "    def __init__(self, num_classes=10):\n",
    "        super().__init__()\n",
    "        # CNN block\n",
    "        self.conv = nn.Sequential(\n",
    "            nn.Conv2d(1, 32, 3, padding=1),  # Fashion MNIST has 1 channel\n",
    "            nn.ReLU(),\n",
    "            nn.MaxPool2d(2),\n",
    "        )\n",
    "\n",
    "        # Residual block\n",
    "        self.resblock = ResidualBlock(32)\n",
    "\n",
    "        # Flatten/Patchify\n",
    "        self.flatten_dim = 32 * 14 * 14  # After conv+pooling\n",
    "        self.patch_dim = 196  # 14x14 = 196 tokens\n",
    "        self.embedding_dim = 64\n",
    "        self.linear_proj = nn.Linear(32, self.embedding_dim)\n",
    "\n",
    "        # Transformer encoder\n",
    "        self.transformer = TransformerEncoder(dim=self.embedding_dim)\n",
    "\n",
    "        # Final classification\n",
    "        self.classifier = nn.Sequential(\n",
    "            nn.Flatten(),\n",
    "            nn.Linear(self.patch_dim * self.embedding_dim, 128),\n",
    "            nn.ReLU(),\n",
    "            nn.Dropout(0.2),\n",
    "            nn.Linear(128, num_classes)\n",
    "        )\n",
    "\n",
    "    def forward(self, x):\n",
    "        x = self.conv(x)\n",
    "        x = self.resblock(x)\n",
    "\n",
    "        # Prepare for transformer: reshape to (batch, tokens, features)\n",
    "        B, C, H, W = x.shape  # Expecting (B, 32, 14, 14)\n",
    "        x = x.permute(0, 2, 3, 1).reshape(B, H * W, C)  # (B, 196, 32)\n",
    "        x = self.linear_proj(x)  # (B, 196, embedding_dim)\n",
    "\n",
    "        x = self.transformer(x)\n",
    "\n",
    "        out = self.classifier(x)\n",
    "        return out"
   ],
   "outputs": [],
   "execution_count": 60
  },
  {
   "cell_type": "code",
   "metadata": {
    "ExecuteTime": {
     "end_time": "2025-03-31T12:33:28.487181Z",
     "start_time": "2025-03-31T12:33:28.470165Z"
    }
   },
   "source": [
    "# Training setup\n",
    "model = DNNv3().to('cuda' if torch.cuda.is_available() else 'cpu')\n",
    "criterion = nn.CrossEntropyLoss()\n",
    "optimizer = torch.optim.Adam(model.parameters(), lr=1e-3)"
   ],
   "outputs": [],
   "execution_count": 61
  },
  {
   "cell_type": "markdown",
   "metadata": {},
   "source": [
    "# Evaluate model"
   ]
  },
  {
   "cell_type": "code",
   "metadata": {
    "ExecuteTime": {
     "end_time": "2025-03-31T12:33:28.551186Z",
     "start_time": "2025-03-31T12:33:28.546876Z"
    }
   },
   "source": [
    "def evaluate(model, dataloader, device, set_name=\"Test\"):\n",
    "    model.eval()\n",
    "    correct = 0\n",
    "    total = 0\n",
    "\n",
    "    with torch.no_grad():\n",
    "        for images, labels in dataloader:\n",
    "            images, labels = images.to(device), labels.to(device)\n",
    "            outputs = model(images)\n",
    "            _, predicted = torch.max(outputs.data, 1)\n",
    "            total += labels.size(0)\n",
    "            correct += (predicted == labels).sum().item()\n",
    "\n",
    "    accuracy = 100 * correct / total\n",
    "    print(f\"{set_name} Accuracy: {accuracy:.2f}%\")\n",
    "    model.train()  # set back to training mode after evaluation"
   ],
   "outputs": [],
   "execution_count": 62
  },
  {
   "cell_type": "markdown",
   "metadata": {},
   "source": [
    "# Train model"
   ]
  },
  {
   "cell_type": "code",
   "metadata": {
    "ExecuteTime": {
     "end_time": "2025-03-31T12:33:28.612940Z",
     "start_time": "2025-03-31T12:33:28.609431Z"
    }
   },
   "source": [
    "def train(model, train_loader, val_loader, criterion, optimizer, device, epochs=25):\n",
    "    model.train()\n",
    "    for epoch in range(epochs):\n",
    "        total_loss = 0\n",
    "        avg_loss = 0\n",
    "        for images, labels in train_loader:\n",
    "            images, labels = images.to(device), labels.to(device)\n",
    "\n",
    "            optimizer.zero_grad()\n",
    "            outputs = model(images)\n",
    "            loss = criterion(outputs, labels)\n",
    "            loss.backward()\n",
    "            optimizer.step()\n",
    "\n",
    "            total_loss += loss.item()\n",
    "            avg_loss += loss.item() / len(train_loader)\n",
    "\n",
    "        print(f\"Epoch {epoch+1}/{epochs}, Total Loss: {total_loss:.4f}, Average Loss: {avg_loss:.4f}\")\n",
    "\n",
    "        # Evaluate on validation set\n",
    "        evaluate(model, val_loader, device, set_name=\"Validation\")"
   ],
   "outputs": [],
   "execution_count": 63
  },
  {
   "cell_type": "markdown",
   "metadata": {},
   "source": [
    "# Run model"
   ]
  },
  {
   "cell_type": "code",
   "metadata": {
    "ExecuteTime": {
     "end_time": "2025-03-31T12:40:06.163110Z",
     "start_time": "2025-03-31T12:33:28.701203Z"
    }
   },
   "source": [
    "device = torch.device('cuda' if torch.cuda.is_available() else 'cpu')\n",
    "\n",
    "train(model, train_loader, val_loader, criterion, optimizer, device, epochs=25)\n",
    "evaluate(model, test_loader, device, set_name=\"Test\")"
   ],
   "outputs": [
    {
     "name": "stdout",
     "output_type": "stream",
     "text": [
      "Epoch 1/25, Total Loss: 667.1008, Average Loss: 0.4447\n",
      "Validation Accuracy: 89.22%\n",
      "Epoch 2/25, Total Loss: 457.4954, Average Loss: 0.3050\n",
      "Validation Accuracy: 90.67%\n",
      "Epoch 3/25, Total Loss: 385.1624, Average Loss: 0.2568\n",
      "Validation Accuracy: 88.98%\n",
      "Epoch 4/25, Total Loss: 334.5076, Average Loss: 0.2230\n",
      "Validation Accuracy: 91.64%\n",
      "Epoch 5/25, Total Loss: 293.4030, Average Loss: 0.1956\n",
      "Validation Accuracy: 92.17%\n",
      "Epoch 6/25, Total Loss: 260.6294, Average Loss: 0.1738\n",
      "Validation Accuracy: 92.10%\n",
      "Epoch 7/25, Total Loss: 234.7337, Average Loss: 0.1565\n",
      "Validation Accuracy: 92.28%\n",
      "Epoch 8/25, Total Loss: 203.6301, Average Loss: 0.1358\n",
      "Validation Accuracy: 92.16%\n",
      "Epoch 9/25, Total Loss: 184.9647, Average Loss: 0.1233\n",
      "Validation Accuracy: 92.72%\n",
      "Epoch 10/25, Total Loss: 163.5443, Average Loss: 0.1090\n",
      "Validation Accuracy: 92.53%\n",
      "Epoch 11/25, Total Loss: 154.2939, Average Loss: 0.1029\n",
      "Validation Accuracy: 92.51%\n",
      "Epoch 12/25, Total Loss: 135.9330, Average Loss: 0.0906\n",
      "Validation Accuracy: 92.62%\n",
      "Epoch 13/25, Total Loss: 120.4062, Average Loss: 0.0803\n",
      "Validation Accuracy: 92.57%\n",
      "Epoch 14/25, Total Loss: 115.0958, Average Loss: 0.0767\n",
      "Validation Accuracy: 92.23%\n",
      "Epoch 15/25, Total Loss: 108.8433, Average Loss: 0.0726\n",
      "Validation Accuracy: 92.43%\n",
      "Epoch 16/25, Total Loss: 100.4884, Average Loss: 0.0670\n",
      "Validation Accuracy: 92.46%\n",
      "Epoch 17/25, Total Loss: 93.1078, Average Loss: 0.0621\n",
      "Validation Accuracy: 92.22%\n",
      "Epoch 18/25, Total Loss: 87.7217, Average Loss: 0.0585\n",
      "Validation Accuracy: 92.66%\n",
      "Epoch 19/25, Total Loss: 82.0061, Average Loss: 0.0547\n",
      "Validation Accuracy: 92.38%\n",
      "Epoch 20/25, Total Loss: 80.5685, Average Loss: 0.0537\n",
      "Validation Accuracy: 92.58%\n",
      "Epoch 21/25, Total Loss: 75.5210, Average Loss: 0.0503\n",
      "Validation Accuracy: 92.71%\n",
      "Epoch 22/25, Total Loss: 73.1901, Average Loss: 0.0488\n",
      "Validation Accuracy: 92.42%\n",
      "Epoch 23/25, Total Loss: 72.9676, Average Loss: 0.0486\n",
      "Validation Accuracy: 92.12%\n",
      "Epoch 24/25, Total Loss: 68.5184, Average Loss: 0.0457\n",
      "Validation Accuracy: 92.53%\n",
      "Epoch 25/25, Total Loss: 62.1771, Average Loss: 0.0415\n",
      "Validation Accuracy: 92.42%\n",
      "Test Accuracy: 92.83%\n"
     ]
    }
   ],
   "execution_count": 64
  },
  {
   "cell_type": "markdown",
   "metadata": {},
   "source": [
    "# Test model"
   ]
  },
  {
   "metadata": {
    "ExecuteTime": {
     "end_time": "2025-03-31T12:40:16.649969Z",
     "start_time": "2025-03-31T12:40:06.237033Z"
    }
   },
   "cell_type": "code",
   "source": [
    "model.eval()\n",
    "correct = total = 0\n",
    "\n",
    "with torch.no_grad():\n",
    "    for data, targets in train_loader:\n",
    "        data = data.to(DEVICE)\n",
    "        targets = targets.to(DEVICE)\n",
    "        outputs = model(data)\n",
    "        _, preds = outputs.max(1)\n",
    "        correct += (preds == targets).sum().item()\n",
    "        total += targets.size(0)\n",
    "\n",
    "print(f\"Train Accuracy: {correct / total * 100:.2f}%\")"
   ],
   "outputs": [
    {
     "name": "stdout",
     "output_type": "stream",
     "text": [
      "Train Accuracy: 99.55%\n"
     ]
    }
   ],
   "execution_count": 65
  },
  {
   "cell_type": "code",
   "metadata": {
    "ExecuteTime": {
     "end_time": "2025-03-31T12:40:18.816278Z",
     "start_time": "2025-03-31T12:40:16.742535Z"
    }
   },
   "source": [
    "model.eval()\n",
    "correct = total = 0\n",
    "\n",
    "with torch.no_grad():\n",
    "    for batch_idx, (data, targets) in enumerate(test_loader):\n",
    "        data = data.to(DEVICE)\n",
    "        targets = targets.to(DEVICE)\n",
    "        scores = model(data)\n",
    "        _, predictions = scores.max(1)\n",
    "        correct += (predictions == targets).sum().item()\n",
    "        total += targets.size(0)\n",
    "\n",
    "print(f\"Test Accuracy: {correct / total * 100:.2f}%\")"
   ],
   "outputs": [
    {
     "name": "stdout",
     "output_type": "stream",
     "text": [
      "Test Accuracy: 92.83%\n"
     ]
    }
   ],
   "execution_count": 66
  },
  {
   "cell_type": "markdown",
   "metadata": {},
   "source": [
    "# Evaluation metrics"
   ]
  },
  {
   "cell_type": "code",
   "metadata": {
    "ExecuteTime": {
     "end_time": "2025-03-31T12:40:21.164099Z",
     "start_time": "2025-03-31T12:40:18.903474Z"
    }
   },
   "source": [
    "all_preds = []\n",
    "all_probs = []\n",
    "all_labels = []\n",
    "\n",
    "model.eval()\n",
    "with torch.no_grad():\n",
    "    for data, labels in test_loader:\n",
    "        data = data.to(DEVICE)\n",
    "        labels = labels.to(DEVICE)\n",
    "\n",
    "        outputs = model(data)\n",
    "        probs = F.softmax(outputs, dim=1)\n",
    "        preds = torch.argmax(probs, dim=1)\n",
    "\n",
    "        all_preds.extend(preds.cpu().numpy())\n",
    "        all_probs.extend(probs.cpu().numpy())\n",
    "        all_labels.extend(labels.cpu().numpy())\n",
    "\n",
    "all_preds = np.array(all_preds)\n",
    "all_probs = np.array(all_probs)\n",
    "all_labels = np.array(all_labels)"
   ],
   "outputs": [],
   "execution_count": 67
  },
  {
   "cell_type": "markdown",
   "metadata": {},
   "source": [
    "# Confusion matrix"
   ]
  },
  {
   "cell_type": "code",
   "metadata": {
    "ExecuteTime": {
     "end_time": "2025-03-31T12:40:21.373059Z",
     "start_time": "2025-03-31T12:40:21.209764Z"
    }
   },
   "source": [
    "cm = confusion_matrix(all_labels, all_preds)\n",
    "disp = ConfusionMatrixDisplay(confusion_matrix=cm, display_labels=list(class_names.values()))\n",
    "disp.plot(cmap=plt.cm.Blues, xticks_rotation=45)\n",
    "plt.title(\"Confusion Matrix\")\n",
    "plt.show()"
   ],
   "outputs": [
    {
     "data": {
      "text/plain": [
       "<Figure size 640x480 with 2 Axes>"
      ],
      "image/png": "[encoded data removed]"
     },
     "metadata": {},
     "output_type": "display_data"
    }
   ],
   "execution_count": 68
  },
  {
   "cell_type": "markdown",
   "metadata": {},
   "source": [
    "# Precision, Recall, F1 Score"
   ]
  },
  {
   "cell_type": "code",
   "metadata": {
    "ExecuteTime": {
     "end_time": "2025-03-31T12:40:21.433287Z",
     "start_time": "2025-03-31T12:40:21.424485Z"
    }
   },
   "source": [
    "print(\"Classification Report:\")\n",
    "print(classification_report(all_labels, all_preds, target_names=list(class_names.values())))"
   ],
   "outputs": [
    {
     "name": "stdout",
     "output_type": "stream",
     "text": [
      "Classification Report:\n",
      "              precision    recall  f1-score   support\n",
      "\n",
      " T-shirt/top       0.85      0.90      0.88      1000\n",
      "     Trouser       0.99      0.99      0.99      1000\n",
      "    Pullover       0.91      0.85      0.88      1000\n",
      "       Dress       0.93      0.94      0.93      1000\n",
      "        Coat       0.87      0.93      0.90      1000\n",
      "      Sandal       0.99      0.97      0.98      1000\n",
      "       Shirt       0.82      0.78      0.80      1000\n",
      "     Sneaker       0.97      0.95      0.96      1000\n",
      "         Bag       0.99      0.98      0.99      1000\n",
      "  Ankle boot       0.95      0.98      0.97      1000\n",
      "\n",
      "    accuracy                           0.93     10000\n",
      "   macro avg       0.93      0.93      0.93     10000\n",
      "weighted avg       0.93      0.93      0.93     10000\n",
      "\n"
     ]
    }
   ],
   "execution_count": 69
  },
  {
   "metadata": {},
   "cell_type": "markdown",
   "source": "# Log Loss"
  },
  {
   "metadata": {
    "ExecuteTime": {
     "end_time": "2025-03-31T12:40:21.492216Z",
     "start_time": "2025-03-31T12:40:21.486996Z"
    }
   },
   "cell_type": "code",
   "source": [
    "logloss = log_loss(all_labels, all_probs, labels=np.unique(all_labels))\n",
    "print(f\"Log Loss: {logloss:.4f}\")"
   ],
   "outputs": [
    {
     "name": "stdout",
     "output_type": "stream",
     "text": [
      "Log Loss: 0.3729\n"
     ]
    }
   ],
   "execution_count": 70
  },
  {
   "cell_type": "markdown",
   "metadata": {},
   "source": [
    "# Top k accuracy, k = 3"
   ]
  },
  {
   "cell_type": "code",
   "metadata": {
    "ExecuteTime": {
     "end_time": "2025-03-31T12:40:23.531412Z",
     "start_time": "2025-03-31T12:40:21.539281Z"
    }
   },
   "source": [
    "topk = 3\n",
    "topk_correct = 0\n",
    "total = 0\n",
    "\n",
    "model.eval()\n",
    "with torch.no_grad():\n",
    "    for data, labels in test_loader:\n",
    "        data = data.to(DEVICE)\n",
    "        labels = labels.to(DEVICE)\n",
    "\n",
    "        outputs = model(data)\n",
    "        _, topk_preds = outputs.topk(topk, dim=1)  # [batch, topk]\n",
    "        match = topk_preds.eq(labels.view(-1, 1))  # [batch, topk]\n",
    "\n",
    "        topk_correct += match.any(dim=1).sum().item()\n",
    "        total += labels.size(0)\n",
    "\n",
    "topk_acc = topk_correct / total * 100\n",
    "print(f\"Top-{topk} Accuracy: {topk_acc:.2f}%\")"
   ],
   "outputs": [
    {
     "name": "stdout",
     "output_type": "stream",
     "text": [
      "Top-3 Accuracy: 99.56%\n"
     ]
    }
   ],
   "execution_count": 71
  },
  {
   "metadata": {},
   "cell_type": "markdown",
   "source": "# AUC-ROC, AUC-PR"
  },
  {
   "cell_type": "code",
   "metadata": {
    "ExecuteTime": {
     "end_time": "2025-03-31T12:40:23.604196Z",
     "start_time": "2025-03-31T12:40:23.576638Z"
    }
   },
   "source": [
    "# One-hot encode labels\n",
    "y_true_bin = label_binarize(all_labels, classes=list(range(10)))\n",
    "roc_auc = roc_auc_score(y_true_bin, all_probs, average=\"macro\", multi_class=\"ovr\")\n",
    "auc_pr = average_precision_score(y_true_bin, all_probs, average='macro')\n",
    "print(f\"Multiclass ROC-AUC (macro): {roc_auc:.4f}\")\n",
    "print(f\"Multiclass AUC-PR (macro): {auc_pr:.4f}\")"
   ],
   "outputs": [
    {
     "name": "stdout",
     "output_type": "stream",
     "text": [
      "Multiclass ROC-AUC (macro): 0.9957\n",
      "Multiclass AUC-PR (macro): 0.9700\n"
     ]
    }
   ],
   "execution_count": 72
  },
  {
   "metadata": {},
   "cell_type": "code",
   "outputs": [],
   "execution_count": null,
   "source": ""
  }
 ],
 "metadata": {
  "kernelspec": {
   "display_name": "Python 3",
   "language": "python",
   "name": "python3"
  },
  "language_info": {
   "codemirror_mode": {
    "name": "ipython",
    "version": 3
   },
   "file_extension": ".py",
   "mimetype": "text/x-python",
   "name": "python",
   "nbconvert_exporter": "python",
   "pygments_lexer": "ipython3",
   "version": "3.10.11"
  }
 },
 "nbformat": 4,
 "nbformat_minor": 2
}
