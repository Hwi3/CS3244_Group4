{
  "cells": [
    {
      "cell_type": "markdown",
      "metadata": {
        "id": "pZV9CEvV0Vvz"
      },
      "source": [
        "# Team_7_Traffic_Dataset\n"
      ]
    },
    {
      "cell_type": "markdown",
      "metadata": {
        "id": "PpFck5Uz0Vv0"
      },
      "source": [
        "## Import Necessary Libraries"
      ]
    },
    {
      "cell_type": "code",
      "execution_count": 1,
      "metadata": {
        "id": "5BBecWtvYaeY"
      },
      "outputs": [],
      "source": [
        "# Core & utility\n",
        "import os\n",
        "import random\n",
        "from glob import glob\n",
        "from tqdm import tqdm\n",
        "\n",
        "# Data manipulation & visualization\n",
        "import numpy as np\n",
        "import pandas as pd\n",
        "import matplotlib.pyplot as plt\n",
        "import seaborn as sns\n",
        "\n",
        "# Image processing\n",
        "import cv2\n",
        "from PIL import Image\n",
        "from skimage.color import rgb2gray\n",
        "from skimage.feature import hog\n",
        "\n",
        "# Machine learning\n",
        "from sklearn.model_selection import train_test_split, GridSearchCV\n",
        "from sklearn.preprocessing import StandardScaler, label_binarize\n",
        "from sklearn.decomposition import PCA\n",
        "from sklearn.metrics import (\n",
        "    accuracy_score, precision_score, recall_score, f1_score,\n",
        "    classification_report, confusion_matrix, log_loss, roc_auc_score\n",
        ")\n",
        "from sklearn.tree import DecisionTreeClassifier\n",
        "from sklearn.linear_model import LogisticRegression\n",
        "from sklearn.ensemble import RandomForestClassifier\n",
        "from sklearn.neighbors import KNeighborsClassifier\n",
        "from xgboost import XGBClassifier\n",
        "from sklearn.svm import SVC\n",
        "\n",
        "# PyTorch\n",
        "import torch\n",
        "import torch.nn as nn\n",
        "import torch.optim as optim\n",
        "from torch.utils.data import Dataset, DataLoader, random_split\n",
        "from torchvision import datasets, models, transforms"
      ]
    },
    {
      "cell_type": "markdown",
      "metadata": {
        "id": "tTKFCYp80Vv0"
      },
      "source": [
        "## Data loading"
      ]
    },
    {
      "cell_type": "markdown",
      "metadata": {
        "id": "KQ1oR08N0Vv0"
      },
      "source": [
        "### For Google Colab User"
      ]
    },
    {
      "cell_type": "code",
      "execution_count": 2,
      "metadata": {
        "colab": {
          "base_uri": "https://localhost:8080/"
        },
        "id": "kZel0FzFYiv9",
        "outputId": "8f54fcfc-ad1f-4bdd-b281-c0cb1ca71494"
      },
      "outputs": [],
      "source": [
        "# from google.colab import drive\n",
        "# drive.mount('/content/drive')\n",
        "# !cp -r \"/content/drive/MyDrive/IT1244_Group/dataset\" \"/content/\"\n",
        "# root = \"/content/drive/MyDrive/IT1244_Group/dataset\"\n",
        "# train_root = root + \"/Train\"\n",
        "# test_root = root + \"/Test\"\n"
      ]
    },
    {
      "cell_type": "code",
      "execution_count": 3,
      "metadata": {},
      "outputs": [],
      "source": [
        "def dataloader_to_numpy(dataloader):\n",
        "    \"\"\"\n",
        "    Convert a PyTorch DataLoader into NumPy arrays.\n",
        "    Returns:\n",
        "        X: Flattened image data (N, 784)\n",
        "        y: Corresponding labels (N,)\n",
        "    \"\"\"\n",
        "    X_list, y_list = [], []\n",
        "    for images, labels in dataloader:\n",
        "        images = images.numpy()\n",
        "        if images.ndim == 4:  # e.g., (B, 1, 28, 28)\n",
        "            images = images.squeeze(1)\n",
        "        X_list.append(images.reshape(images.shape[0], -1))  # Flatten to (B, 784)\n",
        "        y_list.append(labels.numpy())\n",
        "    X = np.concatenate(X_list, axis=0)\n",
        "    y = np.concatenate(y_list, axis=0)\n",
        "    return X, y"
      ]
    },
    {
      "cell_type": "markdown",
      "metadata": {
        "id": "wwfcGVNc0Vv1"
      },
      "source": [
        "## Data Modification and feature extraction"
      ]
    },
    {
      "cell_type": "markdown",
      "metadata": {
        "id": "O1yF6prL0Vv1"
      },
      "source": [
        "### 1. Normalised Raw Pixel Features"
      ]
    },
    {
      "cell_type": "code",
      "execution_count": 4,
      "metadata": {},
      "outputs": [],
      "source": [
        "import pandas as pd\n",
        "from sklearn.model_selection import train_test_split\n",
        "\n",
        "# Load the CSVs\n",
        "train_df = pd.read_csv(\"../data/fashion-mnist_train.csv\")\n",
        "test_df = pd.read_csv(\"../data/fashion-mnist_test.csv\")\n",
        "\n",
        "# Split into X and y\n",
        "X_train_full = train_df.iloc[:, 1:].values / 255.0\n",
        "y_train_full = train_df.iloc[:, 0].values\n",
        "X_test = test_df.iloc[:, 1:].values / 255.0\n",
        "y_test = test_df.iloc[:, 0].values\n",
        "\n",
        "# Split train/val (optional but useful for tuning)\n",
        "X_train, X_val, y_train, y_val = train_test_split(\n",
        "    X_train_full, y_train_full, test_size=0.2, random_state=42, stratify=y_train_full\n",
        ")"
      ]
    },
    {
      "cell_type": "markdown",
      "metadata": {
        "id": "jaFSeo6u0Vv1"
      },
      "source": [
        "### 2. HOG(Histogram of Oriented Gradients) Features"
      ]
    },
    {
      "cell_type": "code",
      "execution_count": 5,
      "metadata": {
        "id": "dA6ReF53roJ-"
      },
      "outputs": [],
      "source": [
        "def extract_hog_features(image_list, size=(64, 64)):\n",
        "    features = []\n",
        "    hog = cv2.HOGDescriptor(_winSize=(64, 64), _blockSize=(16, 16), _blockStride=(8, 8), _cellSize=(8, 8), _nbins=9)\n",
        "    for img in image_list:\n",
        "        gray = img.resize(size).convert('L')\n",
        "        arr = np.array(gray).astype('uint8')\n",
        "        if arr.shape == (64, 64):\n",
        "            feat = hog.compute(arr)\n",
        "            if feat is not None:\n",
        "                features.append(feat.flatten())\n",
        "    return np.array(features)"
      ]
    },
    {
      "cell_type": "markdown",
      "metadata": {
        "id": "Y7PEjsI30Vv1"
      },
      "source": [
        "### 3. SIFT(Scale-Invariant Feature Transform) Features (flattened)\n",
        "* This function uses OpenCV to extract SIFT descriptors for each image.\n",
        "* Each image is resized, converted to grayscale, and passed into SIFT.\n",
        "* Using circle-mask with sift so only the center of the images are taken into account for descriptors\n",
        "* To make all feature lengths the same, we just take the first few descriptors and flatten them."
      ]
    },
    {
      "cell_type": "code",
      "execution_count": 6,
      "metadata": {},
      "outputs": [],
      "source": [
        "from PIL import Image\n",
        "\n",
        "\n",
        "def prepare_image_list(X_flat, size=(64, 64)):\n",
        "    image_list = []\n",
        "    for arr in X_flat:\n",
        "        img = arr.reshape(28, 28).astype('uint8')\n",
        "        pil_img = Image.fromarray(img).resize(size)\n",
        "        image_list.append(pil_img)\n",
        "    return image_list"
      ]
    },
    {
      "cell_type": "code",
      "execution_count": 7,
      "metadata": {
        "id": "E1sgHaYcroBP"
      },
      "outputs": [],
      "source": [
        "def extract_sift_features(image_list, size=(64, 64)):\n",
        "    sift = cv2.SIFT_create()\n",
        "    features = []\n",
        "    failed = 0\n",
        "    for img in image_list:\n",
        "        gray = img.resize(size).convert('L')\n",
        "        arr = np.array(gray).astype('uint8')\n",
        "\n",
        "        _, descriptors = sift.detectAndCompute(arr, None)\n",
        "        if descriptors is not None:\n",
        "            features.append(np.mean(descriptors, axis=0))\n",
        "        else:\n",
        "            failed += 1\n",
        "            features.append(np.zeros(128))\n",
        "\n",
        "    print(f\"[INFO] {failed}/{len(image_list)} images had no descriptors.\")\n",
        "    return np.array(features)"
      ]
    },
    {
      "cell_type": "markdown",
      "metadata": {
        "id": "8ZvSEAtI0Vv1"
      },
      "source": [
        "### 4. PCA(Principal Component Analysis) Features"
      ]
    },
    {
      "cell_type": "markdown",
      "metadata": {
        "id": "MTmQyoEP0Vv1"
      },
      "source": [
        "* These 4 types of modification will be trained for feature based ML models"
      ]
    },
    {
      "cell_type": "markdown",
      "metadata": {
        "id": "-B67f--L0Vv1"
      },
      "source": [
        "## Model Training and Evaluation (Feature Based Machine Learning)\n"
      ]
    },
    {
      "cell_type": "markdown",
      "metadata": {
        "id": "jAR-58ve0Vv1"
      },
      "source": [
        "### Function for training and testing with different model types\n",
        "\n",
        "<table>\n",
        "<tr>\n",
        "  <th>Modified Data</th>\n",
        "  <th>Model List</th>\n",
        "</tr>\n",
        "<tr>\n",
        "  <td>\n",
        "    <ul>\n",
        "      <li>Normalised</li>\n",
        "      <li>HOG</li>\n",
        "      <li>SIFT</li>\n",
        "      <li>PCA</li>\n",
        "    </ul>\n",
        "  </td>\n",
        "  <td>\n",
        "    <ul>\n",
        "      <li>Decision Tree</li>\n",
        "      <li>Random Forest</li>\n",
        "      <li>Logistic Regression</li>\n",
        "      <li>KNN</li>\n",
        "      <li>XGBoost</li>\n",
        "      <li>SVM</li>\n",
        "    </ul>\n",
        "  </td>\n",
        "</tr>\n",
        "</table>"
      ]
    },
    {
      "cell_type": "code",
      "execution_count": 8,
      "metadata": {
        "id": "uNjaUSBUQdrf"
      },
      "outputs": [],
      "source": [
        "def train_and_evaluate_model(X_train, y_train, X_test, y_test, model_type, scale=False):\n",
        "    # Optional scaling (recommended for KNN and Logistic Regression)\n",
        "    if scale:\n",
        "        scaler = StandardScaler()\n",
        "        X_train = scaler.fit_transform(X_train)\n",
        "        X_test = scaler.transform(X_test)\n",
        "\n",
        "    # Model selection\n",
        "    if model_type == \"dt\":\n",
        "        model = DecisionTreeClassifier(\n",
        "            random_state=42,\n",
        "            max_depth=10,\n",
        "            min_samples_split=5,\n",
        "            min_samples_leaf=3\n",
        "        )\n",
        "    elif model_type == \"rf\":\n",
        "        model = RandomForestClassifier(\n",
        "            n_estimators=100,\n",
        "            max_depth=20,\n",
        "            random_state=42\n",
        "        )\n",
        "    elif model_type == \"lr\":\n",
        "        model = LogisticRegression(\n",
        "            max_iter=500,         # reduce from 3000\n",
        "            solver='saga',        # faster for large datasets, supports multiclass\n",
        "            penalty='l2',\n",
        "            C=1.0,                # default\n",
        "            verbose=1             # shows convergence progress\n",
        "        )\n",
        "    elif model_type == \"knn\":\n",
        "        model = KNeighborsClassifier(\n",
        "            n_neighbors=5,\n",
        "            weights='distance'\n",
        "        )\n",
        "    elif model_type == \"xgb\":\n",
        "        model = XGBClassifier(\n",
        "            n_estimators=100,\n",
        "            max_depth=6,\n",
        "            learning_rate=0.1,\n",
        "            use_label_encoder=False,\n",
        "            eval_metric='mlogloss',\n",
        "            random_state=42\n",
        "        )\n",
        "    elif model_type == \"svm\":\n",
        "      model = SVC(kernel='rbf',\n",
        "                  probability = True)\n",
        "    else:\n",
        "        raise ValueError(f\"Unsupported model type: {model_type}\")\n",
        "\n",
        "    # Fit and predict\n",
        "    model.fit(X_train, y_train)\n",
        "    y_pred = model.predict(X_test)\n",
        "\n",
        "    # Predict probabilities if available\n",
        "    if hasattr(model, \"predict_proba\"):\n",
        "        y_pred_proba = model.predict_proba(X_test)\n",
        "    else:\n",
        "        n_classes = len(np.unique(y_train))\n",
        "        y_pred_proba = np.zeros((len(y_pred), n_classes))\n",
        "        for i, pred in enumerate(y_pred):\n",
        "            y_pred_proba[i, pred] = 1.0\n",
        "\n",
        "    # Classification metrics\n",
        "    print(\"=== Evaluation Results ===\")\n",
        "    print(f\"Model: {model_type.upper()}\")\n",
        "    print(\"Accuracy:\", accuracy_score(y_test, y_pred))\n",
        "    print(\"Precision:\", precision_score(y_test, y_pred, average='macro', zero_division=0))\n",
        "    print(\"Recall:\", recall_score(y_test, y_pred, average='macro', zero_division=0))\n",
        "    print(\"F1 Score:\", f1_score(y_test, y_pred, average='macro', zero_division=0))\n",
        "    print(\"\\nClassification Report:\\n\", classification_report(y_test, y_pred, zero_division=0))\n",
        "\n",
        "    # Confusion Matrix\n",
        "    cm = confusion_matrix(y_test, y_pred)\n",
        "    plt.figure(figsize=(10, 6))\n",
        "    sns.heatmap(cm, annot=True, fmt='d', cmap='Blues')\n",
        "    plt.title(f\"Confusion Matrix ({model_type.upper()})\")\n",
        "    plt.xlabel(\"Predicted\")\n",
        "    plt.ylabel(\"Actual\")\n",
        "    plt.show()\n",
        "\n",
        "    # Log Loss\n",
        "    try:\n",
        "        logloss = log_loss(y_test, y_pred_proba)\n",
        "        print(f\"Log Loss: {logloss:.4f}\")\n",
        "    except:\n",
        "        print(\"Log Loss could not be calculated (possibly due to invalid probabilities).\")\n",
        "\n",
        "    # ROC AUC (multi-class)\n",
        "    try:\n",
        "        y_test_bin = label_binarize(y_test, classes=np.unique(y_test))\n",
        "        roc_auc = roc_auc_score(y_test_bin, y_pred_proba, average='macro', multi_class='ovr')\n",
        "        print(f\"ROC AUC (macro): {roc_auc:.4f}\")\n",
        "    except:\n",
        "        print(\"ROC AUC could not be calculated (likely due to class imbalance or missing labels).\")"
      ]
    },
    {
      "cell_type": "code",
      "execution_count": 9,
      "metadata": {},
      "outputs": [],
      "source": [
        "# Convert to PIL and extract HOG\n",
        "X_train_imgs = prepare_image_list(X_train)\n",
        "X_val_imgs = prepare_image_list(X_val)\n",
        "X_test_imgs = prepare_image_list(X_test)"
      ]
    },
    {
      "cell_type": "markdown",
      "metadata": {
        "id": "Pof0BAaz0Vv2"
      },
      "source": [
        "### Run 5 different models with 4 different modifed dataset (Normalised, HOG, SIFT, PCA)"
      ]
    },
    {
      "cell_type": "markdown",
      "metadata": {
        "id": "v9XzR6M20Vv2"
      },
      "source": [
        "#### 1. Normalized Raw data"
      ]
    },
    {
      "cell_type": "code",
      "execution_count": 10,
      "metadata": {
        "colab": {
          "base_uri": "https://localhost:8080/",
          "height": 1000
        },
        "id": "e64bc3a2",
        "outputId": "7aa85f2a-9264-45fc-cc37-5106206eeb71"
      },
      "outputs": [],
      "source": [
        "# Normalised Raw pixel Features\n",
        "\n",
        "# train_and_evaluate_model(X_train, y_train, X_test, y_test,model_type=\"knn\",scale=True)\n",
        "# train_and_evaluate_model(X_train, y_train, X_test, y_test,model_type=\"svm\",scale=True)\n",
        "# train_and_evaluate_model(X_train, y_train, X_test, y_test,model_type=\"lr\",scale=True)\n",
        "# train_and_evaluate_model(X_train, y_train, X_test, y_test,model_type=\"rf\")\n",
        "# train_and_evaluate_model(X_train, y_train, X_test, y_test,model_type=\"xgb\")\n",
        "\n"
      ]
    },
    {
      "cell_type": "markdown",
      "metadata": {
        "id": "HP83ES8q0Vv2"
      },
      "source": [
        "#### 2. HOG Features"
      ]
    },
    {
      "cell_type": "code",
      "execution_count": 11,
      "metadata": {},
      "outputs": [],
      "source": [
        "\n",
        "def extract_hog_features(image_list, size=(64, 64)):\n",
        "    features = []\n",
        "    hog = cv2.HOGDescriptor(\n",
        "        _winSize=size,\n",
        "        _blockSize=(16, 16),\n",
        "        _blockStride=(8, 8),\n",
        "        _cellSize=(8, 8),\n",
        "        _nbins=9\n",
        "    )\n",
        "    for img in image_list:\n",
        "        arr = np.array(img)\n",
        "        feat = hog.compute(arr)\n",
        "        if feat is not None:\n",
        "            features.append(feat.flatten())\n",
        "    return np.array(features)"
      ]
    },
    {
      "cell_type": "code",
      "execution_count": 12,
      "metadata": {
        "colab": {
          "base_uri": "https://localhost:8080/",
          "height": 1000
        },
        "id": "9e07859a",
        "outputId": "398c425d-885c-4a7b-8810-c84f631b2920"
      },
      "outputs": [
        {
          "name": "stdout",
          "output_type": "stream",
          "text": [
            "=== Evaluation Results ===\n",
            "Model: SVM\n",
            "Accuracy: 0.8906\n",
            "Precision: 0.8896970942357905\n",
            "Recall: 0.8906000000000001\n",
            "F1 Score: 0.8896784941714595\n",
            "\n",
            "Classification Report:\n",
            "               precision    recall  f1-score   support\n",
            "\n",
            "           0       0.82      0.86      0.84      1000\n",
            "           1       0.99      0.97      0.98      1000\n",
            "           2       0.83      0.82      0.83      1000\n",
            "           3       0.89      0.92      0.90      1000\n",
            "           4       0.83      0.87      0.85      1000\n",
            "           5       0.96      0.93      0.95      1000\n",
            "           6       0.75      0.67      0.71      1000\n",
            "           7       0.92      0.94      0.93      1000\n",
            "           8       0.95      0.98      0.96      1000\n",
            "           9       0.95      0.95      0.95      1000\n",
            "\n",
            "    accuracy                           0.89     10000\n",
            "   macro avg       0.89      0.89      0.89     10000\n",
            "weighted avg       0.89      0.89      0.89     10000\n",
            "\n"
          ]
        },
        {
          "data": {
            "image/png": "[encoded data removed]",
            "text/plain": [
              "<Figure size 1000x600 with 2 Axes>"
            ]
          },
          "metadata": {},
          "output_type": "display_data"
        },
        {
          "name": "stdout",
          "output_type": "stream",
          "text": [
            "Log Loss: 0.3031\n",
            "ROC AUC (macro): 0.9921\n"
          ]
        }
      ],
      "source": [
        "X_train_hog = extract_hog_features(X_train_imgs)\n",
        "X_val_hog = extract_hog_features(X_val_imgs)\n",
        "X_test_hog = extract_hog_features(X_test_imgs)\n",
        "\n",
        "# # Use HOG features with any model\n",
        "# train_and_evaluate_model(X_train, y_train, X_test, y_test,model_type=\"knn\",scale=True)\n",
        "train_and_evaluate_model(X_train, y_train, X_test, y_test,model_type=\"svm\",scale=True)\n",
        "# train_and_evaluate_model(X_train, y_train, X_test, y_test,model_type=\"lr\",scale=True)\n",
        "# train_and_evaluate_model(X_train, y_train, X_test, y_test,model_type=\"rf\")\n",
        "# train_and_evaluate_model(X_train, y_train, X_test, y_test,model_type=\"xgb\")"
      ]
    },
    {
      "cell_type": "markdown",
      "metadata": {
        "id": "l5G6MfgS0Vv2"
      },
      "source": [
        "#### 3. SIFT Features (Flattened)"
      ]
    },
    {
      "cell_type": "code",
      "execution_count": 13,
      "metadata": {
        "colab": {
          "base_uri": "https://localhost:8080/",
          "height": 1000
        },
        "id": "c888ed4e",
        "outputId": "2e0dcace-bb81-4a99-ede2-6a1a363a2a5e"
      },
      "outputs": [],
      "source": [
        "# # Prepare PIL image lists\n",
        "# X_train_imgs = prepare_image_list(X_train, size=(64, 64))\n",
        "# X_test_imgs = prepare_image_list(X_test, size=(64, 64))\n",
        "\n",
        "# # Extract SIFT features (slow step)\n",
        "# X_train_sift = extract_sift_features(X_train_imgs)\n",
        "# X_test_sift = extract_sift_features(X_test_imgs)\n",
        "\n",
        "\n",
        "# # Check shape\n",
        "# print(X_train_sift.shape)  # (N, 128)\n",
        "# train_and_evaluate_model(X_train_sift, y_train, X_test_sift, y_test,model_type=\"knn\",scale=True)\n",
        "# train_and_evaluate_model(X_train_sift, y_train, X_test_sift, y_test,model_type=\"svm\",scale=True)\n",
        "# train_and_evaluate_model(X_train_sift, y_train, X_test_sift, y_test,model_type=\"lr\",scale=True)\n",
        "# train_and_evaluate_model(X_train_sift, y_train, X_test_sift, y_test,model_type=\"rf\")\n",
        "# train_and_evaluate_model(X_train_sift, y_train, X_test_sift, y_test,model_type=\"xgb\")"
      ]
    },
    {
      "cell_type": "markdown",
      "metadata": {
        "id": "AEVjv3qc0Vv2"
      },
      "source": [
        "#### 4. PCA on Raw Pixel Features"
      ]
    },
    {
      "cell_type": "code",
      "execution_count": 14,
      "metadata": {},
      "outputs": [],
      "source": [
        "def extract_pca_features_train(image_list, size=(64, 64), n_components=0.95):\n",
        "    data = []\n",
        "    for img in image_list:\n",
        "        img = img.resize(size)\n",
        "        arr = np.array(img).astype('float32')\n",
        "        data.append(arr.flatten())\n",
        "    raw = np.array(data)\n",
        "    pca = PCA(n_components=n_components, random_state=42)\n",
        "    transformed = pca.fit_transform(raw)\n",
        "    return transformed, pca\n",
        "\n",
        "def extract_pca_features_test(image_list, pca, size=(64, 64)):\n",
        "    data = []\n",
        "    for img in image_list:\n",
        "        img = img.resize(size)\n",
        "        arr = np.array(img).astype('float32')\n",
        "        data.append(arr.flatten())\n",
        "    raw = np.array(data)\n",
        "    return pca.transform(raw)"
      ]
    },
    {
      "cell_type": "code",
      "execution_count": 15,
      "metadata": {
        "colab": {
          "base_uri": "https://localhost:8080/",
          "height": 1000
        },
        "id": "df4a8179",
        "outputId": "e18ae003-b127-4268-941e-cb452c23d831"
      },
      "outputs": [],
      "source": [
        "X_train_pca, pca = extract_pca_features_train(X_train_imgs, size=(24, 24), n_components=0.95)\n",
        "X_test_pca = extract_pca_features_test(X_test_imgs, pca, size=(24, 24))\n",
        "\n",
        "# Train and evaluate\n",
        "# train_and_evaluate_model(X_train_pca, y_train, X_test_pca, y_test,model_type=\"svm\",scale=True)\n",
        "# train_and_evaluate_model(X_train_pca, y_train, X_test_pca, y_test,model_type=\"knn\",scale=True)\n",
        "# #train_and_evaluate_model(X_train_pca, y_train, X_test_pca, y_test,model_type=\"svm\",scale=True)\n",
        "# train_and_evaluate_model(X_train_pca, y_train, X_test_pca, y_test,model_type=\"lr\",scale=True)\n",
        "# train_and_evaluate_model(X_train_pca, y_train, X_test_pca, y_test,model_type=\"rf\")\n",
        "# train_and_evaluate_model(X_train_pca, y_train, X_test_pca, y_test,model_type=\"xgb\")"
      ]
    }
  ],
  "metadata": {
    "accelerator": "GPU",
    "colab": {
      "gpuType": "T4",
      "provenance": []
    },
    "kernelspec": {
      "display_name": "Python 3",
      "name": "python3"
    },
    "language_info": {
      "codemirror_mode": {
        "name": "ipython",
        "version": 3
      },
      "file_extension": ".py",
      "mimetype": "text/x-python",
      "name": "python",
      "nbconvert_exporter": "python",
      "pygments_lexer": "ipython3",
      "version": "3.11.11"
    }
  },
  "nbformat": 4,
  "nbformat_minor": 0
}
