{
 "cells": [
  {
   "cell_type": "markdown",
   "metadata": {
    "id": "z66GNxoJuwSJ"
   },
   "source": [
    "# Import library"
   ]
  },
  {
   "cell_type": "code",
   "execution_count": 8,
   "metadata": {
    "executionInfo": {
     "elapsed": 8325,
     "status": "ok",
     "timestamp": 1743269953840,
     "user": {
      "displayName": "박승휘",
      "userId": "11755552370052162756"
     },
     "user_tz": -480
    },
    "id": "ol66A4AEuwSK"
   },
   "outputs": [],
   "source": [
    "import numpy as np\n",
    "import pandas as pd\n",
    "from PIL import Image\n",
    "import matplotlib.pyplot as plt\n",
    "import random\n",
    "import os\n",
    "import torch\n",
    "import torch.nn as nn\n",
    "import torch.optim as optim\n",
    "from torch.autograd import Variable\n",
    "\n",
    "import torchvision\n",
    "import torchvision.transforms as transforms\n",
    "from torch.utils.data import Dataset, DataLoader\n",
    "from torch.utils.data import random_split\n",
    "import torchvision.transforms.functional as TF\n",
    "import torch.nn.functional as F\n",
    "from torchvision import datasets\n",
    "from torchvision.transforms.functional import to_pil_image\n",
    "\n",
    "from sklearn.metrics import confusion_matrix"
   ]
  },
  {
   "cell_type": "markdown",
   "metadata": {
    "id": "Kp5WOsN8uwSL"
   },
   "source": [
    "# Load dataset"
   ]
  },
  {
   "cell_type": "code",
   "execution_count": 9,
   "metadata": {
    "colab": {
     "base_uri": "https://localhost:8080/"
    },
    "executionInfo": {
     "elapsed": 1912,
     "status": "ok",
     "timestamp": 1743269955749,
     "user": {
      "displayName": "박승휘",
      "userId": "11755552370052162756"
     },
     "user_tz": -480
    },
    "id": "-nCunuKJ3pya",
    "outputId": "e22e22f0-173f-45f4-8895-3b306e484c6b"
   },
   "outputs": [],
   "source": [
    "#rom google.colab import drive\n",
    "#drive.mount('/content/drive')"
   ]
  },
  {
   "cell_type": "code",
   "execution_count": 10,
   "metadata": {
    "executionInfo": {
     "elapsed": 11,
     "status": "ok",
     "timestamp": 1743269955764,
     "user": {
      "displayName": "박승휘",
      "userId": "11755552370052162756"
     },
     "user_tz": -480
    },
    "id": "9fWuZCDGu7Ja"
   },
   "outputs": [],
   "source": [
    "def data_augmentation(rot=25, crop=True, hflip=True, vflip=True):\n",
    "    transform_list = []\n",
    "    # if rot:\n",
    "    #     transform_list.append(transforms.RandomRotation(rot))\n",
    "    # if hflip:\n",
    "    #     transform_list.append(transforms.RandomHorizontalFlip())\n",
    "    # if vflip:\n",
    "    #     transform_list.append(transforms.RandomVerticalFlip())\n",
    "\n",
    "    transform_list.append(transforms.ToTensor())\n",
    "    transform_list.append(transforms.Normalize((0.1307,), (0.3081,)))\n",
    "\n",
    "    return transforms.Compose(transform_list)"
   ]
  },
  {
   "cell_type": "code",
   "execution_count": 11,
   "metadata": {
    "colab": {
     "base_uri": "https://localhost:8080/"
    },
    "executionInfo": {
     "elapsed": 10788,
     "status": "ok",
     "timestamp": 1743269966556,
     "user": {
      "displayName": "박승휘",
      "userId": "11755552370052162756"
     },
     "user_tz": -480
    },
    "id": "x9xZ9g_BuwSM",
    "outputId": "5325e3c7-a9c4-4124-9dd5-f051ef6466e3"
   },
   "outputs": [
    {
     "name": "stdout",
     "output_type": "stream",
     "text": [
      "Train set size: 48000\n",
      "Validation set size: 12000\n",
      "Test set size: 10000\n"
     ]
    }
   ],
   "source": [
    "class FashionMNISTDataset(Dataset):\n",
    "    def __init__(self, csv_file, transform=None):\n",
    "        data = csv_file.values\n",
    "        self.labels = data[:, 0]\n",
    "        self.images = data[:, 1:].reshape(-1, 28, 28).astype(np.uint8)\n",
    "        self.transform = transform\n",
    "\n",
    "    def __len__(self):\n",
    "        return len(self.images)\n",
    "\n",
    "    def __getitem__(self, idx):\n",
    "        label = self.labels[idx]\n",
    "        image = self.images[idx]\n",
    "        image = Image.fromarray(image)  # Convert numpy to PIL\n",
    "\n",
    "        if self.transform:\n",
    "            image = self.transform(image)\n",
    "\n",
    "        return image, label\n",
    "\n",
    "# Load data from csv\n",
    "from torch.utils.data import random_split\n",
    "\n",
    "#train_csv = pd.read_csv(\"drive/MyDrive/CS3244_Group 4/data/fashion-mnist_train.csv\")\n",
    "#test_csv = pd.read_csv(\"drive/MyDrive/CS3244_Group 4/data/fashion-mnist_test.csv\")\n",
    "train_csv = pd.read_csv(\"../data/fashion-mnist_train.csv\")\n",
    "test_csv = pd.read_csv(\"../data/fashion-mnist_test.csv\")\n",
    "train_set = FashionMNISTDataset(train_csv, transform = data_augmentation())\n",
    "test_set = FashionMNISTDataset(test_csv, transform =  data_augmentation())\n",
    "train_size = int(0.8 * len(train_set))\n",
    "val_size = len(train_set) - train_size\n",
    "train_set, val_set = random_split(train_set, [train_size, val_size])\n",
    "\n",
    "train_loader = DataLoader(train_set, batch_size=32, shuffle=True)\n",
    "test_loader = DataLoader(test_set, batch_size=32, shuffle=False)\n",
    "val_loader = DataLoader(val_set, batch_size = 32, shuffle=True)\n",
    "\n",
    "print(\"Train set size:\", len(train_set))\n",
    "print(\"Validation set size:\", len(val_set))\n",
    "print(\"Test set size:\", len(test_set))\n",
    "\n",
    "#class mapping\n",
    "class_names = {\n",
    "    0: \"T-shirt/top\",\n",
    "    1: \"Trouser\",\n",
    "    2: \"Pullover\",\n",
    "    3: \"Dress\",\n",
    "    4: \"Coat\",\n",
    "    5: \"Sandal\",\n",
    "    6: \"Shirt\",\n",
    "    7: \"Sneaker\",\n",
    "    8: \"Bag\",\n",
    "    9: \"Ankle boot\"\n",
    "}"
   ]
  },
  {
   "cell_type": "markdown",
   "metadata": {
    "id": "pMHA8WhAuwSM"
   },
   "source": [
    "# Model summary\n",
    "* 5 convolutional blocks (ending with 512 feature maps and 7x7 spatial size)\n",
    "* 2 fully connected blocks of size 4096\n",
    "* Final output layer to 10 classes"
   ]
  },
  {
   "cell_type": "code",
   "execution_count": 12,
   "metadata": {
    "executionInfo": {
     "elapsed": 288,
     "status": "ok",
     "timestamp": 1743269966839,
     "user": {
      "displayName": "박승휘",
      "userId": "11755552370052162756"
     },
     "user_tz": -480
    },
    "id": "yTDxojSzuwSN"
   },
   "outputs": [],
   "source": [
    "class DNNv1(nn.Module):\n",
    "    def __init__(self, latent_dim=20, num_classes=10):\n",
    "        super(DNNv1, self).__init__()\n",
    "        self.encoder = nn.Sequential(\n",
    "            nn.Flatten(),\n",
    "            nn.Linear(28*28, 400),\n",
    "            nn.ReLU()\n",
    "        )\n",
    "        self.fc_mu = nn.Linear(400, latent_dim)\n",
    "        self.fc_logvar = nn.Linear(400, latent_dim)\n",
    "\n",
    "        self.decoder = nn.Sequential(\n",
    "            nn.Linear(latent_dim, 400),\n",
    "            nn.ReLU(),\n",
    "            nn.Linear(400, 28*28),\n",
    "            nn.Sigmoid()\n",
    "        )\n",
    "\n",
    "        self.classifier = nn.Sequential(\n",
    "            nn.Linear(latent_dim, 64),\n",
    "            nn.ReLU(),\n",
    "            nn.Linear(64, num_classes)\n",
    "        )\n",
    "\n",
    "    def encode(self, x):\n",
    "        h = self.encoder(x)\n",
    "        return self.fc_mu(h), self.fc_logvar(h)\n",
    "\n",
    "    def reparameterize(self, mu, logvar):\n",
    "        std = torch.exp(0.5 * logvar)\n",
    "        eps = torch.randn_like(std)\n",
    "        return mu + eps * std\n",
    "\n",
    "    def decode(self, z):\n",
    "        return self.decoder(z).view(-1, 1, 28, 28)\n",
    "\n",
    "    def forward(self, x):\n",
    "        mu, logvar = self.encode(x)\n",
    "        z = self.reparameterize(mu, logvar)\n",
    "        x_recon = self.decode(z)\n",
    "        class_logits = self.classifier(z)\n",
    "        return x_recon, mu, logvar, class_logits"
   ]
  },
  {
   "cell_type": "markdown",
   "metadata": {
    "id": "paIoL4wruwSN"
   },
   "source": []
  },
  {
   "cell_type": "markdown",
   "metadata": {
    "id": "mci1DyXvuwSN"
   },
   "source": [
    "# Define Hyper parameters\n"
   ]
  },
  {
   "cell_type": "code",
   "execution_count": 13,
   "metadata": {
    "executionInfo": {
     "elapsed": 0,
     "status": "ok",
     "timestamp": 1743269966841,
     "user": {
      "displayName": "박승휘",
      "userId": "11755552370052162756"
     },
     "user_tz": -480
    },
    "id": "LXtxsIA1d3HA"
   },
   "outputs": [],
   "source": [
    "def loss_function(recon_x, x, mu, logvar, logits, targets):\n",
    "    recon_loss = F.mse_loss(recon_x, x, reduction='sum')\n",
    "    kl_loss = -0.5 * torch.sum(1 + logvar - mu.pow(2) - logvar.exp())\n",
    "    cls_loss = F.cross_entropy(logits, targets)\n",
    "    return recon_loss + kl_loss + cls_loss, recon_loss, kl_loss, cls_loss\n",
    "\n",
    "def evaluate(model, loader):\n",
    "    model.eval()\n",
    "    loss_sum, correct, total = 0, 0, 0\n",
    "    with torch.no_grad():\n",
    "        for x, y in loader:\n",
    "            x, y = x.to(DEVICE), y.to(DEVICE)\n",
    "            recon_x, mu, logvar, logits = model(x)\n",
    "            loss, _, _, _ = loss_function(recon_x, x, mu, logvar, logits, y)\n",
    "            loss_sum += loss.item()\n",
    "            correct += (logits.argmax(dim=1) == y).sum().item()\n",
    "            total += y.size(0)\n",
    "    return loss_sum / total, correct / total\n",
    "\n",
    "\n",
    "DEVICE = torch.device(\"cuda\" if torch.cuda.is_available() else \"cpu\")\n",
    "model = DNNv1().to(DEVICE)\n",
    "optimizer = optim.Adam(model.parameters(), lr=1e-3)"
   ]
  },
  {
   "cell_type": "markdown",
   "metadata": {
    "id": "KW3ccWBUuwSO"
   },
   "source": []
  },
  {
   "cell_type": "markdown",
   "metadata": {
    "id": "B39mi_OouwSO"
   },
   "source": [
    "# Training"
   ]
  },
  {
   "cell_type": "code",
   "execution_count": 14,
   "metadata": {
    "colab": {
     "base_uri": "https://localhost:8080/"
    },
    "executionInfo": {
     "elapsed": 239486,
     "status": "ok",
     "timestamp": 1743270206328,
     "user": {
      "displayName": "박승휘",
      "userId": "11755552370052162756"
     },
     "user_tz": -480
    },
    "id": "WKM497PUuwSO",
    "outputId": "2874ab6c-5d4d-45eb-99c9-93fd258b82a2"
   },
   "outputs": [
    {
     "name": "stdout",
     "output_type": "stream",
     "text": [
      "[Epoch 1] Train Loss: 516.9397\n",
      "[Epoch 1] Val Loss: 492.4372 | Val Acc: 76.64%\n",
      "[Epoch 2] Train Loss: 487.1063\n",
      "[Epoch 2] Val Loss: 481.1427 | Val Acc: 79.17%\n",
      "[Epoch 3] Train Loss: 480.2011\n",
      "[Epoch 3] Val Loss: 477.9110 | Val Acc: 80.71%\n",
      "[Epoch 4] Train Loss: 476.7740\n",
      "[Epoch 4] Val Loss: 474.4978 | Val Acc: 81.47%\n",
      "[Epoch 5] Train Loss: 474.9883\n",
      "[Epoch 5] Val Loss: 473.3734 | Val Acc: 82.47%\n",
      "[Epoch 6] Train Loss: 473.5984\n",
      "[Epoch 6] Val Loss: 472.4375 | Val Acc: 82.36%\n",
      "[Epoch 7] Train Loss: 472.9431\n",
      "[Epoch 7] Val Loss: 472.6107 | Val Acc: 82.27%\n",
      "[Epoch 8] Train Loss: 6405.0964\n",
      "[Epoch 8] Val Loss: 472.5930 | Val Acc: 82.31%\n",
      "[Epoch 9] Train Loss: 472.1752\n",
      "[Epoch 9] Val Loss: 471.0406 | Val Acc: 82.48%\n",
      "[Epoch 10] Train Loss: 471.4998\n",
      "[Epoch 10] Val Loss: 471.0268 | Val Acc: 82.79%\n",
      "[Epoch 11] Train Loss: 471.0025\n",
      "[Epoch 11] Val Loss: 469.7748 | Val Acc: 83.08%\n",
      "[Epoch 12] Train Loss: 470.7216\n",
      "[Epoch 12] Val Loss: 470.3433 | Val Acc: 83.00%\n",
      "[Epoch 13] Train Loss: 470.5253\n",
      "[Epoch 13] Val Loss: 470.1569 | Val Acc: 83.33%\n",
      "[Epoch 14] Train Loss: 469.9397\n",
      "[Epoch 14] Val Loss: 469.5844 | Val Acc: 83.54%\n",
      "[Epoch 15] Train Loss: 469.6928\n",
      "[Epoch 15] Val Loss: 469.7108 | Val Acc: 82.89%\n",
      "[Epoch 16] Train Loss: 469.3226\n",
      "[Epoch 16] Val Loss: 468.6934 | Val Acc: 83.66%\n",
      "[Epoch 17] Train Loss: 469.0764\n",
      "[Epoch 17] Val Loss: 468.7728 | Val Acc: 83.52%\n",
      "[Epoch 18] Train Loss: 468.9763\n",
      "[Epoch 18] Val Loss: 468.3401 | Val Acc: 83.43%\n",
      "[Epoch 19] Train Loss: 468.7011\n",
      "[Epoch 19] Val Loss: 468.4831 | Val Acc: 83.13%\n",
      "[Epoch 20] Train Loss: 468.7650\n",
      "[Epoch 20] Val Loss: 468.7283 | Val Acc: 83.58%\n",
      "[Epoch 21] Train Loss: 468.4092\n",
      "[Epoch 21] Val Loss: 467.9178 | Val Acc: 83.08%\n",
      "[Epoch 22] Train Loss: 468.2067\n",
      "[Epoch 22] Val Loss: 468.0329 | Val Acc: 83.22%\n",
      "[Epoch 23] Train Loss: 469.2333\n",
      "[Epoch 23] Val Loss: 468.7047 | Val Acc: 83.28%\n",
      "[Epoch 24] Train Loss: 468.1384\n",
      "[Epoch 24] Val Loss: 467.8946 | Val Acc: 83.72%\n",
      "[Epoch 25] Train Loss: 467.7860\n",
      "[Epoch 25] Val Loss: 468.3144 | Val Acc: 83.70%\n"
     ]
    }
   ],
   "source": [
    "DEVICE = \"cuda\" if torch.cuda.is_available() else \"cpu\"\n",
    "\n",
    "train_losses, val_losses, val_accuracies = [], [], []\n",
    "epochs = 25\n",
    "for epoch in range(1, epochs+1):\n",
    "    ## Train Step\n",
    "    model.train()\n",
    "    train_loss_epoch = 0\n",
    "\n",
    "    for batch_idx, (x, y) in enumerate(train_loader):\n",
    "        x, y = x.to(DEVICE), y.to(DEVICE)\n",
    "\n",
    "        optimizer.zero_grad()\n",
    "        recon_x, mu, logvar, logits = model(x)\n",
    "        loss, _, _, _ = loss_function(recon_x, x, mu, logvar, logits, y)\n",
    "        loss.backward()\n",
    "        optimizer.step()\n",
    "        train_loss_epoch += loss.item()\n",
    "\n",
    "    avg_train_loss = train_loss_epoch / len(train_loader.dataset)\n",
    "    train_losses.append(avg_train_loss)\n",
    "\n",
    "    print(f\"[Epoch {epoch}] Train Loss: {avg_train_loss:.4f}\")\n",
    "\n",
    "    ## Validation Step\n",
    "    model.eval()\n",
    "    val_loss = 0\n",
    "    correct = 0\n",
    "    total = 0\n",
    "\n",
    "    with torch.no_grad():\n",
    "        for x_val, y_val in val_loader:\n",
    "            x_val, y_val = x_val.to(DEVICE), y_val.to(DEVICE)\n",
    "            recon_x, mu, logvar, logits = model(x_val)\n",
    "            loss, _, _, _ = loss_function(recon_x, x_val, mu, logvar, logits, y_val)\n",
    "            val_loss += loss.item()\n",
    "\n",
    "            _, predictions = torch.max(logits, dim=1)\n",
    "            correct += (predictions == y_val).sum().item()\n",
    "            total += y_val.size(0)\n",
    "\n",
    "    avg_val_loss = val_loss / len(val_loader.dataset)\n",
    "    val_acc = correct / total\n",
    "\n",
    "    val_losses.append(avg_val_loss)\n",
    "    val_accuracies.append(val_acc)\n",
    "\n",
    "    print(f\"[Epoch {epoch}] Val Loss: {avg_val_loss:.4f} | Val Acc: {val_acc * 100:.2f}%\")\n"
   ]
  },
  {
   "cell_type": "markdown",
   "metadata": {
    "id": "GZFRUjFG7bKz"
   },
   "source": [
    "#Test"
   ]
  },
  {
   "cell_type": "code",
   "execution_count": 15,
   "metadata": {
    "executionInfo": {
     "elapsed": 1894,
     "status": "ok",
     "timestamp": 1743270213858,
     "user": {
      "displayName": "박승휘",
      "userId": "11755552370052162756"
     },
     "user_tz": -480
    },
    "id": "hQJ2JSSW-ek-"
   },
   "outputs": [],
   "source": [
    "from sklearn.metrics import confusion_matrix, classification_report, roc_auc_score\n",
    "import torch.nn.functional as F\n",
    "import numpy as np\n",
    "\n",
    "all_preds = []\n",
    "all_probs = []\n",
    "all_labels = []\n",
    "\n",
    "model.eval()\n",
    "with torch.no_grad():\n",
    "    for data, labels in test_loader:\n",
    "        data = data.to(DEVICE)\n",
    "        labels = labels.to(DEVICE)\n",
    "\n",
    "        _, _, _, logits = model(data)\n",
    "        probs = F.softmax(logits, dim=1)\n",
    "        preds = torch.argmax(probs, dim=1)\n",
    "\n",
    "        all_preds.extend(preds.cpu().numpy())\n",
    "        all_probs.extend(probs.cpu().numpy())\n",
    "        all_labels.extend(labels.cpu().numpy())\n",
    "\n",
    "all_preds = np.array(all_preds)\n",
    "all_probs = np.array(all_probs)\n",
    "all_labels = np.array(all_labels)"
   ]
  },
  {
   "cell_type": "markdown",
   "metadata": {
    "id": "qOR2WoSP97jJ"
   },
   "source": [
    "###Confusion Matrix"
   ]
  },
  {
   "cell_type": "code",
   "execution_count": 16,
   "metadata": {
    "colab": {
     "base_uri": "https://localhost:8080/",
     "height": 520
    },
    "executionInfo": {
     "elapsed": 466,
     "status": "ok",
     "timestamp": 1743270214325,
     "user": {
      "displayName": "박승휘",
      "userId": "11755552370052162756"
     },
     "user_tz": -480
    },
    "id": "qMyIuxj-uwSO",
    "outputId": "c5189c90-4416-416a-82c6-e7c61f0450c1"
   },
   "outputs": [
    {
     "data": {
      "image/png": "[encoded data removed]",
      "text/plain": [
       "<Figure size 640x480 with 2 Axes>"
      ]
     },
     "metadata": {},
     "output_type": "display_data"
    }
   ],
   "source": [
    "from sklearn.metrics import confusion_matrix, ConfusionMatrixDisplay\n",
    "import matplotlib.pyplot as plt\n",
    "\n",
    "cm = confusion_matrix(all_labels, all_preds)\n",
    "disp = ConfusionMatrixDisplay(confusion_matrix=cm, display_labels=list(class_names.values()))\n",
    "disp.plot(cmap=plt.cm.Blues, xticks_rotation=45)\n",
    "plt.title(\"Confusion Matrix\")\n",
    "plt.show()"
   ]
  },
  {
   "cell_type": "markdown",
   "metadata": {
    "id": "MeHVS6fL9933"
   },
   "source": [
    "###Precision, Recall, F1-score (per class)"
   ]
  },
  {
   "cell_type": "code",
   "execution_count": 17,
   "metadata": {
    "colab": {
     "base_uri": "https://localhost:8080/"
    },
    "executionInfo": {
     "elapsed": 14,
     "status": "ok",
     "timestamp": 1743270214343,
     "user": {
      "displayName": "박승휘",
      "userId": "11755552370052162756"
     },
     "user_tz": -480
    },
    "id": "HYPQCZJH-DQZ",
    "outputId": "2bfbdf85-9f28-4417-a09f-df2cf749a9aa"
   },
   "outputs": [
    {
     "name": "stdout",
     "output_type": "stream",
     "text": [
      "Classification Report:\n",
      "              precision    recall  f1-score   support\n",
      "\n",
      " T-shirt/top       0.77      0.81      0.79      1000\n",
      "     Trouser       0.97      0.95      0.96      1000\n",
      "    Pullover       0.74      0.74      0.74      1000\n",
      "       Dress       0.83      0.88      0.85      1000\n",
      "        Coat       0.74      0.77      0.76      1000\n",
      "      Sandal       0.93      0.90      0.91      1000\n",
      "       Shirt       0.65      0.56      0.60      1000\n",
      "     Sneaker       0.89      0.90      0.89      1000\n",
      "         Bag       0.94      0.96      0.95      1000\n",
      "  Ankle boot       0.91      0.94      0.92      1000\n",
      "\n",
      "    accuracy                           0.84     10000\n",
      "   macro avg       0.84      0.84      0.84     10000\n",
      "weighted avg       0.84      0.84      0.84     10000\n",
      "\n"
     ]
    }
   ],
   "source": [
    "from sklearn.metrics import classification_report\n",
    "\n",
    "print(\"Classification Report:\")\n",
    "print(classification_report(all_labels, all_preds, target_names=list(class_names.values())))"
   ]
  },
  {
   "cell_type": "markdown",
   "metadata": {
    "id": "EX6ZaPIv-DqN"
   },
   "source": [
    "###Top-k Accuracy, k = 3"
   ]
  },
  {
   "cell_type": "code",
   "execution_count": 18,
   "metadata": {
    "colab": {
     "base_uri": "https://localhost:8080/"
    },
    "executionInfo": {
     "elapsed": 5814,
     "status": "ok",
     "timestamp": 1743270330575,
     "user": {
      "displayName": "박승휘",
      "userId": "11755552370052162756"
     },
     "user_tz": -480
    },
    "id": "VtzNKo8q-Hcl",
    "outputId": "81741b86-017d-44c5-cb55-02ae44fff234"
   },
   "outputs": [
    {
     "name": "stdout",
     "output_type": "stream",
     "text": [
      "Top-3 Accuracy: 98.52%\n"
     ]
    }
   ],
   "source": [
    "topk = 3\n",
    "topk_correct = 0\n",
    "total = 0\n",
    "\n",
    "model.eval()\n",
    "with torch.no_grad():\n",
    "    for data, labels in test_loader:\n",
    "        data = data.to(DEVICE)\n",
    "        labels = labels.to(DEVICE)\n",
    "\n",
    "        logits = model(data)[-1]\n",
    "        _, topk_preds = logits.topk(topk, dim=1)  # [batch, topk]\n",
    "        match = topk_preds.eq(labels.view(-1, 1))  # [batch, topk]\n",
    "\n",
    "        topk_correct += match.any(dim=1).sum().item()\n",
    "        total += labels.size(0)\n",
    "\n",
    "topk_acc = topk_correct / total * 100\n",
    "print(f\"Top-{topk} Accuracy: {topk_acc:.2f}%\")"
   ]
  },
  {
   "cell_type": "markdown",
   "metadata": {
    "id": "HGnutA7V-Hw7"
   },
   "source": [
    "###ROC-AUC / PR-AUC"
   ]
  },
  {
   "cell_type": "code",
   "execution_count": 19,
   "metadata": {
    "colab": {
     "base_uri": "https://localhost:8080/"
    },
    "executionInfo": {
     "elapsed": 28,
     "status": "ok",
     "timestamp": 1743270333892,
     "user": {
      "displayName": "박승휘",
      "userId": "11755552370052162756"
     },
     "user_tz": -480
    },
    "id": "dFJfeLHv-Jot",
    "outputId": "83d65751-31c2-4042-fb1a-72d261b6a37c"
   },
   "outputs": [
    {
     "name": "stdout",
     "output_type": "stream",
     "text": [
      "Multiclass ROC-AUC (macro avg): 0.9850\n"
     ]
    }
   ],
   "source": [
    "from sklearn.preprocessing import label_binarize\n",
    "from sklearn.metrics import roc_auc_score\n",
    "\n",
    "# One-hot encode labels\n",
    "y_true_bin = label_binarize(all_labels, classes=list(range(10)))\n",
    "roc_auc = roc_auc_score(y_true_bin, all_probs, average=\"macro\", multi_class=\"ovr\")\n",
    "print(f\"Multiclass ROC-AUC (macro avg): {roc_auc:.4f}\")"
   ]
  }
 ],
 "metadata": {
  "accelerator": "GPU",
  "colab": {
   "gpuType": "T4",
   "provenance": []
  },
  "kernelspec": {
   "display_name": "Python 3",
   "name": "python3"
  },
  "language_info": {
   "codemirror_mode": {
    "name": "ipython",
    "version": 3
   },
   "file_extension": ".py",
   "mimetype": "text/x-python",
   "name": "python",
   "nbconvert_exporter": "python",
   "pygments_lexer": "ipython3",
   "version": "3.11.11"
  }
 },
 "nbformat": 4,
 "nbformat_minor": 0
}
