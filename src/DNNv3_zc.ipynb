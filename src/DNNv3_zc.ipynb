{
 "cells": [
  {
   "cell_type": "code",
   "metadata": {
    "ExecuteTime": {
     "end_time": "2025-03-30T10:48:38.894114Z",
     "start_time": "2025-03-30T10:48:38.891156Z"
    }
   },
   "source": [
    "import numpy as np\n",
    "import pandas as pd\n",
    "from PIL import Image\n",
    "import matplotlib.pyplot as plt\n",
    "import random\n",
    "\n",
    "\n",
    "import torch\n",
    "import torch.nn as nn\n",
    "import torch.nn.functional as F\n",
    "from torch.nn import TransformerEncoder, TransformerEncoderLayer\n",
    "\n",
    "import torchvision\n",
    "import torchvision.transforms as transforms\n",
    "from torch.utils.data import Dataset, DataLoader\n",
    "from torch.utils.data import random_split\n",
    "from torchvision.transforms.functional import to_pil_image\n",
    "\n",
    "from sklearn.metrics import confusion_matrix"
   ],
   "outputs": [],
   "execution_count": 26
  },
  {
   "metadata": {},
   "cell_type": "markdown",
   "source": "### Define data augmentation"
  },
  {
   "cell_type": "code",
   "metadata": {
    "ExecuteTime": {
     "end_time": "2025-03-30T10:48:39.624240Z",
     "start_time": "2025-03-30T10:48:39.621227Z"
    }
   },
   "source": [
    "def data_augmentation(rot=25, crop=True, hflip=True, vflip=True):\n",
    "    \n",
    "    transform_list = []\n",
    "    \n",
    "    # if rot:\n",
    "    #     transform_list.append(transforms.RandomRotation(rot))\n",
    "    # if hflip:\n",
    "    #     transform_list.append(transforms.RandomHorizontalFlip())\n",
    "\n",
    "    transform_list.append(transforms.ToTensor())\n",
    "    transform_list.append(transforms.Normalize((0.1307,), (0.3081,)))\n",
    "\n",
    "    return transforms.Compose(transform_list)"
   ],
   "outputs": [],
   "execution_count": 27
  },
  {
   "metadata": {},
   "cell_type": "markdown",
   "source": "### Define dataset"
  },
  {
   "cell_type": "code",
   "metadata": {
    "ExecuteTime": {
     "end_time": "2025-03-30T10:48:40.706235Z",
     "start_time": "2025-03-30T10:48:40.701715Z"
    }
   },
   "source": [
    "class FashionMNISTDataset(Dataset):\n",
    "    def __init__(self, csv_file, transform=None):\n",
    "        data = csv_file.values\n",
    "        self.labels = data[:, 0]\n",
    "        self.images = data[:, 1:].reshape(-1, 28, 28).astype(np.uint8)\n",
    "        self.transform = transform\n",
    "\n",
    "    def __len__(self):\n",
    "        return len(self.images)\n",
    "\n",
    "    def __getitem__(self, idx):\n",
    "        label = self.labels[idx]\n",
    "        image = self.images[idx]\n",
    "        image = Image.fromarray(image)  # Convert numpy to PIL\n",
    "\n",
    "        if self.transform:\n",
    "            image = self.transform(image)\n",
    "\n",
    "        return image, label"
   ],
   "outputs": [],
   "execution_count": 28
  },
  {
   "metadata": {},
   "cell_type": "markdown",
   "source": "### Load data"
  },
  {
   "metadata": {
    "ExecuteTime": {
     "end_time": "2025-03-30T10:48:44.153720Z",
     "start_time": "2025-03-30T10:48:42.049815Z"
    }
   },
   "cell_type": "code",
   "source": [
    "train_csv = pd.read_csv(\"../../Data/fashion-mnist_train.csv\")\n",
    "test_csv = pd.read_csv(\"../../Data/fashion-mnist_test.csv\")\n",
    "train_set = FashionMNISTDataset(train_csv, transform = data_augmentation())\n",
    "test_set = FashionMNISTDataset(test_csv, transform = data_augmentation())\n",
    "\n",
    "train_size = int(0.8 * len(train_set))\n",
    "val_size = len(train_set) - train_size\n",
    "train_set, val_set = random_split(train_set, [train_size, val_size])\n",
    "\n",
    "train_loader = DataLoader(train_set, batch_size=32, shuffle=True)\n",
    "test_loader = DataLoader(test_set, batch_size=32, shuffle=False)\n",
    "val_loader = DataLoader(val_set, batch_size = 32, shuffle=True)\n",
    "\n",
    "print(\"Train set size:\", len(train_set))\n",
    "print(\"Validation set size:\", len(val_set))\n",
    "print(\"Test set size:\", len(test_set))"
   ],
   "outputs": [
    {
     "name": "stdout",
     "output_type": "stream",
     "text": [
      "Train set size: 48000\n",
      "Validation set size: 12000\n",
      "Test set size: 10000\n"
     ]
    }
   ],
   "execution_count": 29
  },
  {
   "cell_type": "code",
   "metadata": {
    "ExecuteTime": {
     "end_time": "2025-03-30T10:48:51.532856Z",
     "start_time": "2025-03-30T10:48:45.637634Z"
    }
   },
   "source": [
    "# Class mapping\n",
    "class_names = {\n",
    "    0: \"T-shirt/top\",\n",
    "    1: \"Trouser\",\n",
    "    2: \"Pullover\",\n",
    "    3: \"Dress\",\n",
    "    4: \"Coat\",\n",
    "    5: \"Sandal\",\n",
    "    6: \"Shirt\",\n",
    "    7: \"Sneaker\",\n",
    "    8: \"Bag\",\n",
    "    9: \"Ankle boot\"\n",
    "}\n",
    "\n",
    "def show_one_per_class(dataset, class_names=None, num_classes=None, rows=2, cols=5):\n",
    "\n",
    "    seen = {}\n",
    "    indices = list(range(len(dataset)))\n",
    "    random.shuffle(indices)\n",
    "\n",
    "    for idx in indices:\n",
    "        _, label = dataset[idx]\n",
    "        label = int(label)\n",
    "        if label not in seen:\n",
    "            seen[label] = idx\n",
    "        if num_classes and len(seen) >= num_classes:\n",
    "            break\n",
    "\n",
    "    # Sort the labels for consistent display\n",
    "    sorted_items = sorted(seen.items(), key=lambda x: x[0])\n",
    "    total = len(sorted_items)\n",
    "\n",
    "    fig, axes = plt.subplots(rows, cols, figsize=(cols * 2, rows * 2))\n",
    "    axes = axes.flatten()\n",
    "\n",
    "    for i, (label, idx) in enumerate(sorted_items):\n",
    "        image, _ = dataset[idx]\n",
    "\n",
    "        if isinstance(image, torch.Tensor):\n",
    "            image = image.clone()\n",
    "            image = image * 0.5 + 0.5  # Unnormalize if needed\n",
    "            image = to_pil_image(image)\n",
    "\n",
    "        axes[i].imshow(image)\n",
    "        axes[i].set_title(class_names[label] if class_names else f\"Class {label}\", fontsize=10)\n",
    "        axes[i].axis(\"off\")\n",
    "\n",
    "    for j in range(total + 1, len(axes)):\n",
    "        axes[j].axis(\"off\")\n",
    "\n",
    "    plt.tight_layout()\n",
    "    plt.show()\n",
    "\n",
    "show_one_per_class(train_set, list(class_names.values()))"
   ],
   "outputs": [
    {
     "data": {
      "text/plain": [
       "<Figure size 1000x400 with 10 Axes>"
      ],
      "image/png": "[encoded data removed]"
     },
     "metadata": {},
     "output_type": "display_data"
    }
   ],
   "execution_count": 30
  },
  {
   "cell_type": "code",
   "metadata": {
    "ExecuteTime": {
     "end_time": "2025-03-30T10:48:54.058955Z",
     "start_time": "2025-03-30T10:48:54.052015Z"
    }
   },
   "source": [
    "# CNN + Skip Connections + Transformer\n",
    "# Skip Connections: Used to improve gradient flow, feature reuse and training stability\n",
    "# Transformer: Used to capture long-range dependencies, contextual relationships and feature interactions\n",
    "\n",
    "class DNNv3(nn.Module):\n",
    "    def __init__(self, num_classes=10):\n",
    "        super().__init__()\n",
    "        # CNN backbone with BatchNorm and deeper conv\n",
    "        self.conv1 = nn.Sequential(\n",
    "            nn.Conv2d(1, 32, 3, padding=1),\n",
    "            nn.BatchNorm2d(32),\n",
    "            nn.ReLU(inplace=True)\n",
    "        )\n",
    "        self.conv2 = nn.Sequential(\n",
    "            nn.Conv2d(32, 64, 3, padding=1),\n",
    "            nn.BatchNorm2d(64),\n",
    "            nn.ReLU(inplace=True)\n",
    "        )\n",
    "        self.skip1 = nn.Conv2d(32, 64, 1)\n",
    "        self.pool1 = nn.MaxPool2d(2, 2)  # → 14x14\n",
    "\n",
    "        self.conv3 = nn.Sequential(\n",
    "            nn.Conv2d(64, 128, 3, padding=1),\n",
    "            nn.BatchNorm2d(128),\n",
    "            nn.ReLU(inplace=True)\n",
    "        )\n",
    "        self.skip2 = nn.Conv2d(64, 128, 1)\n",
    "        self.pool2 = nn.MaxPool2d(2, 2)  # → 7x7\n",
    "\n",
    "        self.conv4 = nn.Sequential(\n",
    "            nn.Conv2d(128, 128, 3, padding=1),\n",
    "            nn.BatchNorm2d(128),\n",
    "            nn.ReLU(inplace=True)\n",
    "        )\n",
    "\n",
    "        self.proj = nn.Conv2d(128, 128, kernel_size=1)\n",
    "        self.pos_embedding = nn.Parameter(torch.randn(1, 49, 128))\n",
    "\n",
    "        # Slightly deeper transformer\n",
    "        encoder_layer = TransformerEncoderLayer(d_model=128, nhead=8, dim_feedforward=256, batch_first=True)\n",
    "        self.transformer = TransformerEncoder(encoder_layer, num_layers=2)\n",
    "        self.norm = nn.LayerNorm(128)\n",
    "\n",
    "        # Classifier\n",
    "        self.fc1 = nn.Linear(128, 256)\n",
    "        self.dropout1 = nn.Dropout(0.5)\n",
    "        self.fc2 = nn.Linear(256, num_classes)\n",
    "\n",
    "    def forward(self, x):\n",
    "        x1 = self.conv1(x)\n",
    "        x2 = self.conv2(x1)\n",
    "        x2 = x2 + self.skip1(x1)\n",
    "        x2 = self.pool1(x2)\n",
    "\n",
    "        x3 = self.conv3(x2)\n",
    "        skip_x2 = self.skip2(x2)\n",
    "        x3 = self.pool2(x3)\n",
    "        skip_x2 = self.pool2(skip_x2)\n",
    "        x3 = F.relu(x3 + skip_x2)\n",
    "\n",
    "        x3 = self.conv4(x3)\n",
    "        x3 = self.proj(x3)\n",
    "        x3 = x3.flatten(2).transpose(1, 2)  # (B, 49, 128)\n",
    "        x3 = self.norm(x3 + self.pos_embedding[:, :49])\n",
    "        x3 = self.transformer(x3)\n",
    "        x3 = x3.mean(dim=1)\n",
    "\n",
    "        x3 = self.dropout1(F.relu(self.fc1(x3)))\n",
    "        return self.fc2(x3)\n",
    "\n"
   ],
   "outputs": [],
   "execution_count": 31
  },
  {
   "metadata": {},
   "cell_type": "markdown",
   "source": "### Define hyperparameters"
  },
  {
   "metadata": {
    "ExecuteTime": {
     "end_time": "2025-03-30T10:48:55.303147Z",
     "start_time": "2025-03-30T10:48:55.275939Z"
    }
   },
   "cell_type": "code",
   "source": [
    "device = torch.device(\"cuda\" if torch.cuda.is_available() else \"cpu\")\n",
    "print(device)\n",
    "model = DNNv3()\n",
    "criterion = nn.CrossEntropyLoss()\n",
    "optimizer = torch.optim.Adam(model.parameters(), lr = 1e-4)\n",
    "epoch = 15 # Was set by many trials -> Descent performance in train/test but not overfitted\n",
    "model.to(device)"
   ],
   "outputs": [
    {
     "name": "stdout",
     "output_type": "stream",
     "text": [
      "cuda\n"
     ]
    },
    {
     "data": {
      "text/plain": [
       "DNNv3(\n",
       "  (conv1): Sequential(\n",
       "    (0): Conv2d(1, 32, kernel_size=(3, 3), stride=(1, 1), padding=(1, 1))\n",
       "    (1): BatchNorm2d(32, eps=1e-05, momentum=0.1, affine=True, track_running_stats=True)\n",
       "    (2): ReLU(inplace=True)\n",
       "  )\n",
       "  (conv2): Sequential(\n",
       "    (0): Conv2d(32, 64, kernel_size=(3, 3), stride=(1, 1), padding=(1, 1))\n",
       "    (1): BatchNorm2d(64, eps=1e-05, momentum=0.1, affine=True, track_running_stats=True)\n",
       "    (2): ReLU(inplace=True)\n",
       "  )\n",
       "  (skip1): Conv2d(32, 64, kernel_size=(1, 1), stride=(1, 1))\n",
       "  (pool1): MaxPool2d(kernel_size=2, stride=2, padding=0, dilation=1, ceil_mode=False)\n",
       "  (conv3): Sequential(\n",
       "    (0): Conv2d(64, 128, kernel_size=(3, 3), stride=(1, 1), padding=(1, 1))\n",
       "    (1): BatchNorm2d(128, eps=1e-05, momentum=0.1, affine=True, track_running_stats=True)\n",
       "    (2): ReLU(inplace=True)\n",
       "  )\n",
       "  (skip2): Conv2d(64, 128, kernel_size=(1, 1), stride=(1, 1))\n",
       "  (pool2): MaxPool2d(kernel_size=2, stride=2, padding=0, dilation=1, ceil_mode=False)\n",
       "  (conv4): Sequential(\n",
       "    (0): Conv2d(128, 128, kernel_size=(3, 3), stride=(1, 1), padding=(1, 1))\n",
       "    (1): BatchNorm2d(128, eps=1e-05, momentum=0.1, affine=True, track_running_stats=True)\n",
       "    (2): ReLU(inplace=True)\n",
       "  )\n",
       "  (proj): Conv2d(128, 128, kernel_size=(1, 1), stride=(1, 1))\n",
       "  (transformer): TransformerEncoder(\n",
       "    (layers): ModuleList(\n",
       "      (0-1): 2 x TransformerEncoderLayer(\n",
       "        (self_attn): MultiheadAttention(\n",
       "          (out_proj): NonDynamicallyQuantizableLinear(in_features=128, out_features=128, bias=True)\n",
       "        )\n",
       "        (linear1): Linear(in_features=128, out_features=256, bias=True)\n",
       "        (dropout): Dropout(p=0.1, inplace=False)\n",
       "        (linear2): Linear(in_features=256, out_features=128, bias=True)\n",
       "        (norm1): LayerNorm((128,), eps=1e-05, elementwise_affine=True)\n",
       "        (norm2): LayerNorm((128,), eps=1e-05, elementwise_affine=True)\n",
       "        (dropout1): Dropout(p=0.1, inplace=False)\n",
       "        (dropout2): Dropout(p=0.1, inplace=False)\n",
       "      )\n",
       "    )\n",
       "  )\n",
       "  (norm): LayerNorm((128,), eps=1e-05, elementwise_affine=True)\n",
       "  (fc1): Linear(in_features=128, out_features=256, bias=True)\n",
       "  (dropout1): Dropout(p=0.5, inplace=False)\n",
       "  (fc2): Linear(in_features=256, out_features=10, bias=True)\n",
       ")"
      ]
     },
     "execution_count": 32,
     "metadata": {},
     "output_type": "execute_result"
    }
   ],
   "execution_count": 32
  },
  {
   "metadata": {},
   "cell_type": "markdown",
   "source": "### Model Training"
  },
  {
   "metadata": {
    "ExecuteTime": {
     "end_time": "2025-03-30T10:54:59.207815Z",
     "start_time": "2025-03-30T10:48:57.061734Z"
    }
   },
   "cell_type": "code",
   "source": [
    "DEVICE = (\"cuda\" if torch.cuda.is_available() else \"cpu\")\n",
    "for epochs in range(epoch):\n",
    "    loss_ep = 0\n",
    "\n",
    "    for batch_idx, (data, targets) in enumerate(train_loader):\n",
    "        data = data.to(DEVICE)\n",
    "        targets = targets.to(DEVICE)\n",
    "        ## Forward Pass\n",
    "        optimizer.zero_grad()\n",
    "        scores = model(data)\n",
    "        loss = criterion(scores,targets)\n",
    "        loss.backward()\n",
    "        optimizer.step()\n",
    "        loss_ep += loss.item()\n",
    "    print(f\"Epoch {epochs+1} ] Loss : {loss_ep/len(train_loader):.6f}\")\n",
    "\n",
    "    with torch.no_grad():\n",
    "        num_correct = 0\n",
    "        num_samples = 0\n",
    "        for batch_idx, (data,targets) in enumerate(val_loader):\n",
    "            data = data.to(DEVICE)\n",
    "            targets = targets.to(DEVICE)\n",
    "            ## Forward Pass\n",
    "            scores = model(data)\n",
    "            _, predictions = scores.max(1)\n",
    "            num_correct += (predictions == targets).sum()\n",
    "            num_samples += predictions.size(0)\n",
    "        print(f\"Epoch {epochs+1} ] Validation Accuracy : {float(num_correct) / float(num_samples) * 100:.2f}%\")"
   ],
   "outputs": [
    {
     "name": "stdout",
     "output_type": "stream",
     "text": [
      "Epoch 1 ] Loss : 0.730173\n",
      "Epoch 1 ] Validation Accuracy : 84.82%\n",
      "Epoch 2 ] Loss : 0.362869\n",
      "Epoch 2 ] Validation Accuracy : 89.03%\n",
      "Epoch 3 ] Loss : 0.292345\n",
      "Epoch 3 ] Validation Accuracy : 90.44%\n",
      "Epoch 4 ] Loss : 0.248362\n",
      "Epoch 4 ] Validation Accuracy : 89.78%\n",
      "Epoch 5 ] Loss : 0.219418\n",
      "Epoch 5 ] Validation Accuracy : 91.07%\n",
      "Epoch 6 ] Loss : 0.190415\n",
      "Epoch 6 ] Validation Accuracy : 91.92%\n",
      "Epoch 7 ] Loss : 0.168139\n",
      "Epoch 7 ] Validation Accuracy : 91.92%\n",
      "Epoch 8 ] Loss : 0.148006\n",
      "Epoch 8 ] Validation Accuracy : 91.68%\n",
      "Epoch 9 ] Loss : 0.132980\n",
      "Epoch 9 ] Validation Accuracy : 91.76%\n",
      "Epoch 10 ] Loss : 0.116147\n",
      "Epoch 10 ] Validation Accuracy : 91.38%\n",
      "Epoch 11 ] Loss : 0.102082\n",
      "Epoch 11 ] Validation Accuracy : 91.92%\n",
      "Epoch 12 ] Loss : 0.091663\n",
      "Epoch 12 ] Validation Accuracy : 90.63%\n",
      "Epoch 13 ] Loss : 0.080097\n",
      "Epoch 13 ] Validation Accuracy : 91.99%\n",
      "Epoch 14 ] Loss : 0.075266\n",
      "Epoch 14 ] Validation Accuracy : 91.67%\n",
      "Epoch 15 ] Loss : 0.067173\n",
      "Epoch 15 ] Validation Accuracy : 92.16%\n"
     ]
    }
   ],
   "execution_count": 33
  },
  {
   "metadata": {},
   "cell_type": "markdown",
   "source": "### Model evaluation"
  },
  {
   "metadata": {
    "ExecuteTime": {
     "end_time": "2025-03-30T10:55:34.139876Z",
     "start_time": "2025-03-30T10:55:31.728008Z"
    }
   },
   "cell_type": "code",
   "source": [
    "model.eval()\n",
    "correct = total = 0\n",
    "\n",
    "with torch.no_grad():\n",
    "    for batch_idx, (data, targets) in enumerate(test_loader):\n",
    "        data = data.to(DEVICE)\n",
    "        targets = targets.to(DEVICE)\n",
    "        scores = model(data)\n",
    "        _, predictions = scores.max(1)\n",
    "        correct += (predictions == targets).sum().item()\n",
    "        total += targets.size(0)\n",
    "\n",
    "print(f\"Test Accuracy: {correct / total * 100:.2f}%\")"
   ],
   "outputs": [
    {
     "name": "stdout",
     "output_type": "stream",
     "text": [
      "Test Accuracy: 92.08%\n"
     ]
    }
   ],
   "execution_count": 34
  },
  {
   "metadata": {
    "ExecuteTime": {
     "end_time": "2025-03-30T11:02:11.400319Z",
     "start_time": "2025-03-30T11:02:08.845964Z"
    }
   },
   "cell_type": "code",
   "source": [
    "all_preds = []\n",
    "all_probs = []\n",
    "all_labels = []\n",
    "\n",
    "model.eval()\n",
    "with torch.no_grad():\n",
    "    for data, labels in test_loader:\n",
    "        data = data.to(DEVICE)\n",
    "        labels = labels.to(DEVICE)\n",
    "\n",
    "        outputs = model(data)\n",
    "        probs = F.softmax(outputs, dim=1)\n",
    "        preds = torch.argmax(probs, dim=1)\n",
    "\n",
    "        all_preds.extend(preds.cpu().numpy())\n",
    "        all_probs.extend(probs.cpu().numpy())\n",
    "        all_labels.extend(labels.cpu().numpy())\n",
    "\n",
    "all_preds = np.array(all_preds)\n",
    "all_probs = np.array(all_probs)\n",
    "all_labels = np.array(all_labels)"
   ],
   "outputs": [],
   "execution_count": 35
  },
  {
   "metadata": {
    "ExecuteTime": {
     "end_time": "2025-03-30T11:02:11.578929Z",
     "start_time": "2025-03-30T11:02:11.403427Z"
    }
   },
   "cell_type": "code",
   "source": [
    "from sklearn.metrics import confusion_matrix, ConfusionMatrixDisplay\n",
    "import matplotlib.pyplot as plt\n",
    "\n",
    "cm = confusion_matrix(all_labels, all_preds)\n",
    "disp = ConfusionMatrixDisplay(confusion_matrix=cm, display_labels=list(class_names.values()))\n",
    "disp.plot(cmap=plt.cm.Blues, xticks_rotation=45)\n",
    "plt.title(\"Confusion Matrix\")\n",
    "plt.show()"
   ],
   "outputs": [
    {
     "data": {
      "text/plain": [
       "<Figure size 640x480 with 2 Axes>"
      ],
      "image/png": "[encoded data removed]"
     },
     "metadata": {},
     "output_type": "display_data"
    }
   ],
   "execution_count": 36
  },
  {
   "metadata": {
    "ExecuteTime": {
     "end_time": "2025-03-30T11:02:11.636643Z",
     "start_time": "2025-03-30T11:02:11.626708Z"
    }
   },
   "cell_type": "code",
   "source": [
    "from sklearn.metrics import classification_report\n",
    "\n",
    "print(\"Classification Report:\")\n",
    "print(classification_report(all_labels, all_preds, target_names=list(class_names.values())))"
   ],
   "outputs": [
    {
     "name": "stdout",
     "output_type": "stream",
     "text": [
      "Classification Report:\n",
      "              precision    recall  f1-score   support\n",
      "\n",
      " T-shirt/top       0.85      0.89      0.87      1000\n",
      "     Trouser       0.99      0.99      0.99      1000\n",
      "    Pullover       0.93      0.83      0.88      1000\n",
      "       Dress       0.89      0.95      0.92      1000\n",
      "        Coat       0.84      0.93      0.88      1000\n",
      "      Sandal       0.98      0.98      0.98      1000\n",
      "       Shirt       0.84      0.73      0.78      1000\n",
      "     Sneaker       0.97      0.94      0.96      1000\n",
      "         Bag       0.98      0.99      0.98      1000\n",
      "  Ankle boot       0.95      0.97      0.96      1000\n",
      "\n",
      "    accuracy                           0.92     10000\n",
      "   macro avg       0.92      0.92      0.92     10000\n",
      "weighted avg       0.92      0.92      0.92     10000\n",
      "\n"
     ]
    }
   ],
   "execution_count": 37
  },
  {
   "metadata": {
    "ExecuteTime": {
     "end_time": "2025-03-30T11:02:13.882620Z",
     "start_time": "2025-03-30T11:02:11.705084Z"
    }
   },
   "cell_type": "code",
   "source": [
    "topk = 3\n",
    "topk_correct = 0\n",
    "total = 0\n",
    "\n",
    "model.eval()\n",
    "with torch.no_grad():\n",
    "    for data, labels in test_loader:\n",
    "        data = data.to(DEVICE)\n",
    "        labels = labels.to(DEVICE)\n",
    "\n",
    "        outputs = model(data)\n",
    "        _, topk_preds = outputs.topk(topk, dim=1)  # [batch, topk]\n",
    "        match = topk_preds.eq(labels.view(-1, 1))  # [batch, topk]\n",
    "\n",
    "        topk_correct += match.any(dim=1).sum().item()\n",
    "        total += labels.size(0)\n",
    "\n",
    "topk_acc = topk_correct / total * 100\n",
    "print(f\"Top-{topk} Accuracy: {topk_acc:.2f}%\")"
   ],
   "outputs": [
    {
     "name": "stdout",
     "output_type": "stream",
     "text": [
      "Top-3 Accuracy: 99.26%\n"
     ]
    }
   ],
   "execution_count": 38
  },
  {
   "metadata": {
    "ExecuteTime": {
     "end_time": "2025-03-30T11:02:13.975859Z",
     "start_time": "2025-03-30T11:02:13.951866Z"
    }
   },
   "cell_type": "code",
   "source": [
    "from sklearn.preprocessing import label_binarize\n",
    "from sklearn.metrics import roc_auc_score\n",
    "\n",
    "# One-hot encode labels\n",
    "y_true_bin = label_binarize(all_labels, classes=list(range(10)))\n",
    "roc_auc = roc_auc_score(y_true_bin, all_probs, average=\"macro\", multi_class=\"ovr\")\n",
    "print(f\"Multiclass ROC-AUC (macro avg): {roc_auc:.4f}\")"
   ],
   "outputs": [
    {
     "name": "stdout",
     "output_type": "stream",
     "text": [
      "Multiclass ROC-AUC (macro avg): 0.9952\n"
     ]
    }
   ],
   "execution_count": 39
  },
  {
   "metadata": {},
   "cell_type": "code",
   "outputs": [],
   "execution_count": null,
   "source": ""
  }
 ],
 "metadata": {
  "kernelspec": {
   "display_name": "Python 3",
   "language": "python",
   "name": "python3"
  },
  "language_info": {
   "codemirror_mode": {
    "name": "ipython",
    "version": 3
   },
   "file_extension": ".py",
   "mimetype": "text/x-python",
   "name": "python",
   "nbconvert_exporter": "python",
   "pygments_lexer": "ipython3",
   "version": "3.10.11"
  }
 },
 "nbformat": 4,
 "nbformat_minor": 2
}
