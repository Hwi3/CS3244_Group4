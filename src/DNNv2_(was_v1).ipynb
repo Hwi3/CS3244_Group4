{
  "cells": [
    {
      "cell_type": "markdown",
      "metadata": {
        "id": "z66GNxoJuwSJ"
      },
      "source": [
        "# Import library"
      ]
    },
    {
      "cell_type": "code",
      "execution_count": 1,
      "metadata": {
        "id": "ol66A4AEuwSK"
      },
      "outputs": [],
      "source": [
        "import numpy as np\n",
        "import pandas as pd\n",
        "from PIL import Image\n",
        "import matplotlib.pyplot as plt\n",
        "import random\n",
        "import os\n",
        "import torch\n",
        "import torch.nn as nn\n",
        "from torch.autograd import Variable\n",
        "\n",
        "import torchvision\n",
        "import torchvision.transforms as transforms\n",
        "from torch.utils.data import Dataset, DataLoader\n",
        "from torch.utils.data import random_split\n",
        "import torchvision.transforms.functional as TF\n",
        "import torch.nn.functional as F\n",
        "from torchvision import datasets\n",
        "from torchvision.transforms.functional import to_pil_image\n",
        "\n",
        "from sklearn.metrics import confusion_matrix"
      ]
    },
    {
      "cell_type": "markdown",
      "metadata": {
        "id": "Kp5WOsN8uwSL"
      },
      "source": [
        "# Load dataset"
      ]
    },
    {
      "cell_type": "code",
      "execution_count": 2,
      "metadata": {
        "colab": {
          "base_uri": "https://localhost:8080/"
        },
        "id": "-nCunuKJ3pya",
        "outputId": "7e323b9a-efda-4f59-ea10-2d8a4af66316"
      },
      "outputs": [],
      "source": [
        "#from google.colab import drive\n",
        "#drive.mount('/content/drive')"
      ]
    },
    {
      "cell_type": "code",
      "execution_count": 3,
      "metadata": {
        "id": "9fWuZCDGu7Ja"
      },
      "outputs": [],
      "source": [
        "def data_augmentation(rot=25, crop=True, hflip=True, vflip=True):\n",
        "    transform_list = []\n",
        "    # if rot:\n",
        "    #     transform_list.append(transforms.RandomRotation(rot))\n",
        "    # if hflip:\n",
        "    #     transform_list.append(transforms.RandomHorizontalFlip())\n",
        "    # if vflip:\n",
        "    #     transform_list.append(transforms.RandomVerticalFlip())\n",
        "\n",
        "    transform_list.append(transforms.ToTensor())\n",
        "    transform_list.append(transforms.Normalize((0.1307,), (0.3081,)))\n",
        "\n",
        "    return transforms.Compose(transform_list)"
      ]
    },
    {
      "cell_type": "code",
      "execution_count": 4,
      "metadata": {
        "colab": {
          "base_uri": "https://localhost:8080/"
        },
        "id": "x9xZ9g_BuwSM",
        "outputId": "582b40fd-3db4-4ee1-e2d5-ed08a22eee05"
      },
      "outputs": [
        {
          "name": "stdout",
          "output_type": "stream",
          "text": [
            "Train set size: 48000\n",
            "Validation set size: 12000\n",
            "Test set size: 10000\n"
          ]
        }
      ],
      "source": [
        "class FashionMNISTDataset(Dataset):\n",
        "    def __init__(self, csv_file, transform=None):\n",
        "        data = csv_file.values\n",
        "        self.labels = data[:, 0]\n",
        "        self.images = data[:, 1:].reshape(-1, 28, 28).astype(np.uint8)\n",
        "        self.transform = transform\n",
        "\n",
        "    def __len__(self):\n",
        "        return len(self.images)\n",
        "\n",
        "    def __getitem__(self, idx):\n",
        "        label = self.labels[idx]\n",
        "        image = self.images[idx]\n",
        "        image = Image.fromarray(image)  # Convert numpy to PIL\n",
        "\n",
        "        if self.transform:\n",
        "            image = self.transform(image)\n",
        "\n",
        "        return image, label\n",
        "\n",
        "# Load data from csv\n",
        "from torch.utils.data import random_split\n",
        "\n",
        "\n",
        "train_csv = pd.read_csv(\"../data/fashion-mnist_train.csv\")\n",
        "test_csv = pd.read_csv(\"../data/fashion-mnist_test.csv\")\n",
        "train_set = FashionMNISTDataset(train_csv, transform = data_augmentation())\n",
        "test_set = FashionMNISTDataset(test_csv, transform =  data_augmentation())\n",
        "train_size = int(0.8 * len(train_set))\n",
        "val_size = len(train_set) - train_size\n",
        "train_set, val_set = random_split(train_set, [train_size, val_size])\n",
        "\n",
        "train_loader = DataLoader(train_set, batch_size=32, shuffle=True)\n",
        "test_loader = DataLoader(test_set, batch_size=32, shuffle=False)\n",
        "val_loader = DataLoader(val_set, batch_size = 32, shuffle=True)\n",
        "\n",
        "print(\"Train set size:\", len(train_set))\n",
        "print(\"Validation set size:\", len(val_set))\n",
        "print(\"Test set size:\", len(test_set))"
      ]
    },
    {
      "cell_type": "code",
      "execution_count": 5,
      "metadata": {
        "id": "mnrZZ5HzyBVK"
      },
      "outputs": [
        {
          "data": {
            "image/png": "[encoded data removed]",
            "text/plain": [
              "<Figure size 1000x400 with 10 Axes>"
            ]
          },
          "metadata": {},
          "output_type": "display_data"
        }
      ],
      "source": [
        "#class mapping\n",
        "class_names = {\n",
        "    0: \"T-shirt/top\",\n",
        "    1: \"Trouser\",\n",
        "    2: \"Pullover\",\n",
        "    3: \"Dress\",\n",
        "    4: \"Coat\",\n",
        "    5: \"Sandal\",\n",
        "    6: \"Shirt\",\n",
        "    7: \"Sneaker\",\n",
        "    8: \"Bag\",\n",
        "    9: \"Ankle boot\"\n",
        "}\n",
        "\n",
        "def show_one_per_class(dataset, class_names=None, num_classes=None, rows=2, cols=5):\n",
        "\n",
        "    seen = {}\n",
        "    indices = list(range(len(dataset)))\n",
        "    random.shuffle(indices)\n",
        "\n",
        "    for idx in indices:\n",
        "        _, label = dataset[idx]\n",
        "        label = int(label)\n",
        "        if label not in seen:\n",
        "            seen[label] = idx\n",
        "        if num_classes and len(seen) >= num_classes:\n",
        "            break\n",
        "\n",
        "    # Sort the labels for consistent display\n",
        "    sorted_items = sorted(seen.items(), key=lambda x: x[0])\n",
        "    total = len(sorted_items)\n",
        "\n",
        "    fig, axes = plt.subplots(rows, cols, figsize=(cols * 2, rows * 2))\n",
        "    axes = axes.flatten()\n",
        "\n",
        "    for i, (label, idx) in enumerate(sorted_items):\n",
        "        image, _ = dataset[idx]\n",
        "\n",
        "        if isinstance(image, torch.Tensor):\n",
        "            image = image.clone()\n",
        "            image = image * 0.5 + 0.5  # unnormalize if needed\n",
        "            image = to_pil_image(image)\n",
        "\n",
        "        axes[i].imshow(image)\n",
        "        axes[i].set_title(class_names[label] if class_names else f\"Class {label}\", fontsize=10)\n",
        "        axes[i].axis(\"off\")\n",
        "\n",
        "    for j in range(i + 1, len(axes)):\n",
        "        axes[j].axis(\"off\")\n",
        "\n",
        "    plt.tight_layout()\n",
        "    plt.show()\n",
        "\n",
        "show_one_per_class(train_set, list(class_names.values()))"
      ]
    },
    {
      "cell_type": "markdown",
      "metadata": {
        "id": "pMHA8WhAuwSM"
      },
      "source": [
        "# Model summary\n",
        "* 5 convolutional blocks (ending with 512 feature maps and 7x7 spatial size)\n",
        "* 2 fully connected blocks of size 4096\n",
        "* Final output layer to 10 classes"
      ]
    },
    {
      "cell_type": "code",
      "execution_count": 6,
      "metadata": {
        "id": "yTDxojSzuwSN"
      },
      "outputs": [],
      "source": [
        "class DNNv2(nn.Module):\n",
        "    def __init__(self):\n",
        "        super(DNNv2, self).__init__()\n",
        "        self.conv1 = nn.Conv2d(1, 32, kernel_size=3, padding=1)   # 28x28 → 28x28\n",
        "        self.conv2 = nn.Conv2d(32, 64, kernel_size=3, padding=1)  # 28x28 → 28x28\n",
        "        self.pool = nn.MaxPool2d(2, 2)                            # 28x28 → 14x14\n",
        "        self.conv3 = nn.Conv2d(64, 128, kernel_size=3, padding=1) # 14x14 → 14x14\n",
        "        self.pool2 = nn.MaxPool2d(2, 2)                           # 14x14 → 7x7\n",
        "        self.dropout = nn.Dropout(0.3)\n",
        "        self.fc1 = nn.Linear(128 * 7 * 7, 256)\n",
        "        self.fc2 = nn.Linear(256, 10)\n",
        "\n",
        "    def forward(self, x):\n",
        "        x = F.relu(self.conv1(x))\n",
        "        x = F.relu(self.conv2(x))\n",
        "        x = self.pool(x)\n",
        "        x = F.relu(self.conv3(x))\n",
        "        x = self.pool2(x)\n",
        "        x = x.view(-1, 128 * 7 * 7)\n",
        "        x = self.dropout(x)\n",
        "        x = F.relu(self.fc1(x))\n",
        "        x = self.dropout(x)\n",
        "        x = self.fc2(x)\n",
        "        return x"
      ]
    },
    {
      "cell_type": "markdown",
      "metadata": {
        "id": "paIoL4wruwSN"
      },
      "source": []
    },
    {
      "cell_type": "markdown",
      "metadata": {
        "id": "mci1DyXvuwSN"
      },
      "source": [
        "# Define Hyper parameters\n"
      ]
    },
    {
      "cell_type": "code",
      "execution_count": 7,
      "metadata": {
        "colab": {
          "base_uri": "https://localhost:8080/"
        },
        "id": "ck1-384suwSN",
        "outputId": "73d11d3f-ee1e-42ec-b71b-89da4be18d79"
      },
      "outputs": [
        {
          "name": "stdout",
          "output_type": "stream",
          "text": [
            "cpu\n"
          ]
        },
        {
          "data": {
            "text/plain": [
              "DNNv2(\n",
              "  (conv1): Conv2d(1, 32, kernel_size=(3, 3), stride=(1, 1), padding=(1, 1))\n",
              "  (conv2): Conv2d(32, 64, kernel_size=(3, 3), stride=(1, 1), padding=(1, 1))\n",
              "  (pool): MaxPool2d(kernel_size=2, stride=2, padding=0, dilation=1, ceil_mode=False)\n",
              "  (conv3): Conv2d(64, 128, kernel_size=(3, 3), stride=(1, 1), padding=(1, 1))\n",
              "  (pool2): MaxPool2d(kernel_size=2, stride=2, padding=0, dilation=1, ceil_mode=False)\n",
              "  (dropout): Dropout(p=0.3, inplace=False)\n",
              "  (fc1): Linear(in_features=6272, out_features=256, bias=True)\n",
              "  (fc2): Linear(in_features=256, out_features=10, bias=True)\n",
              ")"
            ]
          },
          "execution_count": 7,
          "metadata": {},
          "output_type": "execute_result"
        }
      ],
      "source": [
        "device = torch.device(\"cuda\" if torch.cuda.is_available() else \"cpu\")\n",
        "print(device)\n",
        "model = DNNv2()\n",
        "criterion = nn.CrossEntropyLoss()\n",
        "optimizer = torch.optim.Adam(model.parameters(), lr = 1e-4)\n",
        "epoch = 25 # Was set by many trials -> Descent performance in train/test but not overfitted\n",
        "model.to(device)"
      ]
    },
    {
      "cell_type": "markdown",
      "metadata": {
        "id": "KW3ccWBUuwSO"
      },
      "source": []
    },
    {
      "cell_type": "markdown",
      "metadata": {
        "id": "B39mi_OouwSO"
      },
      "source": [
        "# Training"
      ]
    },
    {
      "cell_type": "code",
      "execution_count": 8,
      "metadata": {
        "colab": {
          "base_uri": "https://localhost:8080/"
        },
        "id": "WKM497PUuwSO",
        "outputId": "257564ec-2091-4f8a-b49a-08f835dcfae2"
      },
      "outputs": [
        {
          "name": "stdout",
          "output_type": "stream",
          "text": [
            "Epoch 1 ] Loss : 0.579674\n",
            "Epoch 1 ] Validation Accuracy : 85.20%\n",
            "Epoch 2 ] Loss : 0.368189\n",
            "Epoch 2 ] Validation Accuracy : 87.72%\n",
            "Epoch 3 ] Loss : 0.316673\n",
            "Epoch 3 ] Validation Accuracy : 88.86%\n",
            "Epoch 4 ] Loss : 0.285522\n",
            "Epoch 4 ] Validation Accuracy : 89.88%\n",
            "Epoch 5 ] Loss : 0.257861\n",
            "Epoch 5 ] Validation Accuracy : 90.41%\n",
            "Epoch 6 ] Loss : 0.233908\n",
            "Epoch 6 ] Validation Accuracy : 90.36%\n",
            "Epoch 7 ] Loss : 0.216789\n",
            "Epoch 7 ] Validation Accuracy : 90.52%\n",
            "Epoch 8 ] Loss : 0.202863\n",
            "Epoch 8 ] Validation Accuracy : 91.57%\n",
            "Epoch 9 ] Loss : 0.187154\n",
            "Epoch 9 ] Validation Accuracy : 91.51%\n",
            "Epoch 10 ] Loss : 0.172785\n",
            "Epoch 10 ] Validation Accuracy : 92.09%\n",
            "Epoch 11 ] Loss : 0.160794\n",
            "Epoch 11 ] Validation Accuracy : 92.26%\n",
            "Epoch 12 ] Loss : 0.149237\n",
            "Epoch 12 ] Validation Accuracy : 92.05%\n",
            "Epoch 13 ] Loss : 0.139785\n",
            "Epoch 13 ] Validation Accuracy : 92.51%\n",
            "Epoch 14 ] Loss : 0.128828\n",
            "Epoch 14 ] Validation Accuracy : 92.07%\n",
            "Epoch 15 ] Loss : 0.119977\n",
            "Epoch 15 ] Validation Accuracy : 92.39%\n",
            "Epoch 16 ] Loss : 0.109285\n",
            "Epoch 16 ] Validation Accuracy : 92.30%\n",
            "Epoch 17 ] Loss : 0.103370\n",
            "Epoch 17 ] Validation Accuracy : 92.33%\n",
            "Epoch 18 ] Loss : 0.094742\n",
            "Epoch 18 ] Validation Accuracy : 92.45%\n",
            "Epoch 19 ] Loss : 0.090012\n",
            "Epoch 19 ] Validation Accuracy : 92.45%\n",
            "Epoch 20 ] Loss : 0.082590\n",
            "Epoch 20 ] Validation Accuracy : 92.39%\n",
            "Epoch 21 ] Loss : 0.075502\n",
            "Epoch 21 ] Validation Accuracy : 92.62%\n",
            "Epoch 22 ] Loss : 0.070938\n",
            "Epoch 22 ] Validation Accuracy : 92.65%\n",
            "Epoch 23 ] Loss : 0.065249\n",
            "Epoch 23 ] Validation Accuracy : 92.67%\n",
            "Epoch 24 ] Loss : 0.059666\n",
            "Epoch 24 ] Validation Accuracy : 92.30%\n",
            "Epoch 25 ] Loss : 0.057116\n",
            "Epoch 25 ] Validation Accuracy : 92.27%\n"
          ]
        }
      ],
      "source": [
        "DEVICE = (\"cuda\" if torch.cuda.is_available() else \"cpu\")\n",
        "for epochs in range(epoch):\n",
        "    loss_ep = 0\n",
        "\n",
        "    for batch_idx, (data, targets) in enumerate(train_loader):\n",
        "        data = data.to(DEVICE)\n",
        "        targets = targets.to(DEVICE)\n",
        "        ## Forward Pass\n",
        "        optimizer.zero_grad()\n",
        "        scores = model(data)\n",
        "        loss = criterion(scores,targets)\n",
        "        loss.backward()\n",
        "        optimizer.step()\n",
        "        loss_ep += loss.item()\n",
        "    print(f\"Epoch {epochs+1} ] Loss : {loss_ep/len(train_loader):.6f}\")\n",
        "\n",
        "    with torch.no_grad():\n",
        "        num_correct = 0\n",
        "        num_samples = 0\n",
        "        for batch_idx, (data,targets) in enumerate(val_loader):\n",
        "            data = data.to(DEVICE)\n",
        "            targets = targets.to(DEVICE)\n",
        "            ## Forward Pass\n",
        "            scores = model(data)\n",
        "            _, predictions = scores.max(1)\n",
        "            num_correct += (predictions == targets).sum()\n",
        "            num_samples += predictions.size(0)\n",
        "        print(f\"Epoch {epochs+1} ] Validation Accuracy : {float(num_correct) / float(num_samples) * 100:.2f}%\")"
      ]
    },
    {
      "cell_type": "markdown",
      "metadata": {
        "id": "GZFRUjFG7bKz"
      },
      "source": [
        "#Test"
      ]
    },
    {
      "cell_type": "code",
      "execution_count": 9,
      "metadata": {
        "colab": {
          "base_uri": "https://localhost:8080/"
        },
        "id": "U8xl5OdKuwSO",
        "outputId": "8ff38dbd-9b48-4f22-937c-5a81dc4b95e2"
      },
      "outputs": [
        {
          "name": "stdout",
          "output_type": "stream",
          "text": [
            "Test Accuracy: 93.52%\n"
          ]
        }
      ],
      "source": [
        "model.eval()\n",
        "correct = total = 0\n",
        "\n",
        "with torch.no_grad():\n",
        "    for batch_idx, (data, targets) in enumerate(test_loader):\n",
        "        data = data.to(DEVICE)\n",
        "        targets = targets.to(DEVICE)\n",
        "        scores = model(data)\n",
        "        _, predictions = scores.max(1)\n",
        "        correct += (predictions == targets).sum().item()\n",
        "        total += targets.size(0)\n",
        "\n",
        "print(f\"Test Accuracy: {correct / total * 100:.2f}%\")"
      ]
    },
    {
      "cell_type": "markdown",
      "metadata": {
        "id": "7QrMVjjH91KF"
      },
      "source": [
        "#Evaluation Metrics"
      ]
    },
    {
      "cell_type": "code",
      "execution_count": 10,
      "metadata": {
        "id": "hQJ2JSSW-ek-"
      },
      "outputs": [],
      "source": [
        "from sklearn.metrics import confusion_matrix, classification_report, roc_auc_score\n",
        "import torch.nn.functional as F\n",
        "import numpy as np\n",
        "\n",
        "all_preds = []\n",
        "all_probs = []\n",
        "all_labels = []\n",
        "\n",
        "model.eval()\n",
        "with torch.no_grad():\n",
        "    for data, labels in test_loader:\n",
        "        data = data.to(DEVICE)\n",
        "        labels = labels.to(DEVICE)\n",
        "\n",
        "        outputs = model(data)\n",
        "        probs = F.softmax(outputs, dim=1)\n",
        "        preds = torch.argmax(probs, dim=1)\n",
        "\n",
        "        all_preds.extend(preds.cpu().numpy())\n",
        "        all_probs.extend(probs.cpu().numpy())\n",
        "        all_labels.extend(labels.cpu().numpy())\n",
        "\n",
        "all_preds = np.array(all_preds)\n",
        "all_probs = np.array(all_probs)\n",
        "all_labels = np.array(all_labels)"
      ]
    },
    {
      "cell_type": "markdown",
      "metadata": {
        "id": "qOR2WoSP97jJ"
      },
      "source": [
        "###Confusion Matrix"
      ]
    },
    {
      "cell_type": "code",
      "execution_count": 11,
      "metadata": {
        "colab": {
          "base_uri": "https://localhost:8080/",
          "height": 520
        },
        "id": "qMyIuxj-uwSO",
        "outputId": "16d70805-e9ab-4f16-febe-c42fae7830cc"
      },
      "outputs": [
        {
          "data": {
            "image/png": "[encoded data removed]",
            "text/plain": [
              "<Figure size 640x480 with 2 Axes>"
            ]
          },
          "metadata": {},
          "output_type": "display_data"
        }
      ],
      "source": [
        "from sklearn.metrics import confusion_matrix, ConfusionMatrixDisplay\n",
        "import matplotlib.pyplot as plt\n",
        "\n",
        "cm = confusion_matrix(all_labels, all_preds)\n",
        "disp = ConfusionMatrixDisplay(confusion_matrix=cm, display_labels=list(class_names.values()))\n",
        "disp.plot(cmap=plt.cm.Blues, xticks_rotation=45)\n",
        "plt.title(\"Confusion Matrix\")\n",
        "plt.show()"
      ]
    },
    {
      "cell_type": "markdown",
      "metadata": {
        "id": "MeHVS6fL9933"
      },
      "source": [
        "### Precision, Recall, F1-score (per class)"
      ]
    },
    {
      "cell_type": "code",
      "execution_count": 12,
      "metadata": {
        "colab": {
          "base_uri": "https://localhost:8080/"
        },
        "id": "HYPQCZJH-DQZ",
        "outputId": "0f41590c-578c-4886-a7e8-194acdfbda5c"
      },
      "outputs": [
        {
          "name": "stdout",
          "output_type": "stream",
          "text": [
            "Classification Report:\n",
            "              precision    recall  f1-score   support\n",
            "\n",
            " T-shirt/top       0.86      0.91      0.88      1000\n",
            "     Trouser       0.99      0.99      0.99      1000\n",
            "    Pullover       0.94      0.86      0.90      1000\n",
            "       Dress       0.93      0.95      0.94      1000\n",
            "        Coat       0.87      0.94      0.90      1000\n",
            "      Sandal       0.99      0.98      0.99      1000\n",
            "       Shirt       0.86      0.79      0.82      1000\n",
            "     Sneaker       0.97      0.96      0.96      1000\n",
            "         Bag       0.99      0.99      0.99      1000\n",
            "  Ankle boot       0.95      0.98      0.97      1000\n",
            "\n",
            "    accuracy                           0.94     10000\n",
            "   macro avg       0.94      0.94      0.93     10000\n",
            "weighted avg       0.94      0.94      0.93     10000\n",
            "\n"
          ]
        }
      ],
      "source": [
        "from sklearn.metrics import classification_report\n",
        "\n",
        "print(\"Classification Report:\")\n",
        "print(classification_report(all_labels, all_preds, target_names=list(class_names.values())))"
      ]
    },
    {
      "cell_type": "markdown",
      "metadata": {
        "id": "EX6ZaPIv-DqN"
      },
      "source": [
        "###Top-k Accuracy, k = 3"
      ]
    },
    {
      "cell_type": "code",
      "execution_count": 13,
      "metadata": {
        "colab": {
          "base_uri": "https://localhost:8080/"
        },
        "id": "VtzNKo8q-Hcl",
        "outputId": "6fef593d-2e39-4a55-96b1-a2be5f47741f"
      },
      "outputs": [
        {
          "name": "stdout",
          "output_type": "stream",
          "text": [
            "Top-3 Accuracy: 99.58%\n"
          ]
        }
      ],
      "source": [
        "topk = 3\n",
        "topk_correct = 0\n",
        "total = 0\n",
        "\n",
        "model.eval()\n",
        "with torch.no_grad():\n",
        "    for data, labels in test_loader:\n",
        "        data = data.to(DEVICE)\n",
        "        labels = labels.to(DEVICE)\n",
        "\n",
        "        outputs = model(data)\n",
        "        _, topk_preds = outputs.topk(topk, dim=1)  # [batch, topk]\n",
        "        match = topk_preds.eq(labels.view(-1, 1))  # [batch, topk]\n",
        "\n",
        "        topk_correct += match.any(dim=1).sum().item()\n",
        "        total += labels.size(0)\n",
        "\n",
        "topk_acc = topk_correct / total * 100\n",
        "print(f\"Top-{topk} Accuracy: {topk_acc:.2f}%\")"
      ]
    },
    {
      "cell_type": "markdown",
      "metadata": {
        "id": "HGnutA7V-Hw7"
      },
      "source": [
        "###ROC-AUC / PR-AUC"
      ]
    },
    {
      "cell_type": "code",
      "execution_count": 14,
      "metadata": {
        "colab": {
          "base_uri": "https://localhost:8080/"
        },
        "id": "dFJfeLHv-Jot",
        "outputId": "2a4f9e45-8fc7-4536-b1e0-ee3b76e543f3"
      },
      "outputs": [
        {
          "name": "stdout",
          "output_type": "stream",
          "text": [
            "Multiclass ROC-AUC (macro avg): 0.9967\n"
          ]
        }
      ],
      "source": [
        "from sklearn.preprocessing import label_binarize\n",
        "from sklearn.metrics import roc_auc_score\n",
        "\n",
        "# One-hot encode labels\n",
        "y_true_bin = label_binarize(all_labels, classes=list(range(10)))\n",
        "roc_auc = roc_auc_score(y_true_bin, all_probs, average=\"macro\", multi_class=\"ovr\")\n",
        "print(f\"Multiclass ROC-AUC (macro avg): {roc_auc:.4f}\")"
      ]
    }
  ],
  "metadata": {
    "accelerator": "GPU",
    "colab": {
      "gpuType": "T4",
      "provenance": []
    },
    "kernelspec": {
      "display_name": "Python 3",
      "name": "python3"
    },
    "language_info": {
      "codemirror_mode": {
        "name": "ipython",
        "version": 3
      },
      "file_extension": ".py",
      "mimetype": "text/x-python",
      "name": "python",
      "nbconvert_exporter": "python",
      "pygments_lexer": "ipython3",
      "version": "3.11.11"
    }
  },
  "nbformat": 4,
  "nbformat_minor": 0
}
