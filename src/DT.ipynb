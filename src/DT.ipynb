{
 "cells": [
  {
   "cell_type": "code",
   "id": "initial_id",
   "metadata": {
    "collapsed": true,
    "ExecuteTime": {
     "end_time": "2025-03-30T10:13:39.768555Z",
     "start_time": "2025-03-30T10:13:39.761549Z"
    }
   },
   "source": [
    "import numpy as np\n",
    "import pandas as pd\n",
    "import matplotlib.pyplot as plt\n",
    "from PIL import Image\n",
    "from torchvision import transforms\n",
    "\n",
    "from sklearn.tree import DecisionTreeClassifier\n",
    "from sklearn.ensemble import RandomForestClassifier\n",
    "from sklearn.model_selection import GridSearchCV\n",
    "from sklearn.metrics import accuracy_score, confusion_matrix, ConfusionMatrixDisplay"
   ],
   "outputs": [],
   "execution_count": 27
  },
  {
   "metadata": {},
   "cell_type": "markdown",
   "source": "### Load data and obtain train-test split",
   "id": "299d7d1fc48643d5"
  },
  {
   "metadata": {
    "ExecuteTime": {
     "end_time": "2025-03-30T09:35:20.374835Z",
     "start_time": "2025-03-30T09:35:17.897757Z"
    }
   },
   "cell_type": "code",
   "source": [
    "train_data = pd.read_csv('../../Data/fashion-mnist_train.csv')\n",
    "test_data = pd.read_csv('../../Data/fashion-mnist_test.csv')\n",
    "\n",
    "X_train = train_data.drop('label', axis=1)\n",
    "y_train = train_data['label']\n",
    "X_test = test_data.drop('label', axis=1)\n",
    "y_test = test_data['label']\n",
    "\n",
    "print(f\"Data with {len(X_train.columns)} features\")\n",
    "print(f\"Train set of size {len(X_train)} with {len(y_train)} labels\")\n",
    "print(f\"Test set of size {len(X_test)} with {len(y_test)} labels\")"
   ],
   "id": "68ab1e9559dc2cc9",
   "outputs": [
    {
     "name": "stdout",
     "output_type": "stream",
     "text": [
      "Data with 784 features\n",
      "Train set of size 60000 with 60000 labels\n",
      "Test set of size 10000 with 10000 labels\n"
     ]
    }
   ],
   "execution_count": 2
  },
  {
   "metadata": {
    "ExecuteTime": {
     "end_time": "2025-03-30T10:12:08.258759Z",
     "start_time": "2025-03-30T10:12:08.239710Z"
    }
   },
   "cell_type": "code",
   "source": [
    "class_names = {\n",
    "    0: \"T-shirt/top\",\n",
    "    1: \"Trouser\",\n",
    "    2: \"Pullover\",\n",
    "    3: \"Dress\",\n",
    "    4: \"Coat\",\n",
    "    5: \"Sandal\",\n",
    "    6: \"Shirt\",\n",
    "    7: \"Sneaker\",\n",
    "    8: \"Bag\",\n",
    "    9: \"Ankle boot\"\n",
    "}"
   ],
   "id": "55f82e641c498cc1",
   "outputs": [],
   "execution_count": 23
  },
  {
   "metadata": {},
   "cell_type": "markdown",
   "source": "### Augment images for train set",
   "id": "5182de71eca3897d"
  },
  {
   "metadata": {
    "ExecuteTime": {
     "end_time": "2025-03-30T09:37:44.375534Z",
     "start_time": "2025-03-30T09:35:20.617143Z"
    }
   },
   "cell_type": "code",
   "source": [
    "# Format each image as 28x28 matrix (For augmentation purposes)\n",
    "train_images = []\n",
    "for index, i in X_train.iterrows():\n",
    "    image = []\n",
    "    for _row in range(28):\n",
    "        row = []\n",
    "        for _col in range(28):\n",
    "            row.append(i.iloc[_row*28+_col])\n",
    "        image.append(row)\n",
    "    train_images.append(np.array(image))"
   ],
   "id": "969caa4729dcb868",
   "outputs": [],
   "execution_count": 3
  },
  {
   "metadata": {
    "ExecuteTime": {
     "end_time": "2025-03-30T09:37:51.520548Z",
     "start_time": "2025-03-30T09:37:44.402648Z"
    }
   },
   "cell_type": "code",
   "source": [
    "train_images_augmented = []\n",
    "y_train_augmented = []\n",
    "\n",
    "transform = transforms.Compose([\n",
    "    transforms.RandomHorizontalFlip(),\n",
    "    transforms.RandomVerticalFlip(),\n",
    "    transforms.RandomRotation(30)\n",
    "])\n",
    "\n",
    "for i, _image in enumerate(train_images):\n",
    "    \n",
    "    # One augmented image for each existing image\n",
    "    _image_pil = Image.fromarray(_image.astype('uint8'))\n",
    "    _image_augmented_pil = transform(_image_pil)\n",
    "    _image_augmented = np.array(_image_augmented_pil)\n",
    "\n",
    "    train_images_augmented.append(_image)\n",
    "    train_images_augmented.append(_image_augmented)\n",
    "\n",
    "    y_train_augmented.append(y_train[i])\n",
    "    y_train_augmented.append(y_train[i])"
   ],
   "id": "813e2f355416af8d",
   "outputs": [],
   "execution_count": 4
  },
  {
   "metadata": {
    "ExecuteTime": {
     "end_time": "2025-03-30T10:13:25.201766Z",
     "start_time": "2025-03-30T10:13:25.109954Z"
    }
   },
   "cell_type": "code",
   "source": [
    "# To visualise sample augmented image\n",
    "sample_image = train_images_augmented[8]\n",
    "sample_image_augmented = train_images_augmented[9]\n",
    "\n",
    "fig,ax = plt.subplots(1,2)\n",
    "ax[0].imshow(sample_image, cmap='gray')\n",
    "ax[0].axis('off')\n",
    "ax[0].set_title(f\"Original image (Label '{class_names[y_train_augmented[8]]}')\")\n",
    "ax[1].imshow(sample_image_augmented)\n",
    "ax[1].axis('off')\n",
    "ax[1].set_title(f\"Augmented image (Label '{class_names[y_train_augmented[9]]}')\")\n",
    "fig.tight_layout()\n",
    "plt.show()"
   ],
   "id": "9c8a732fb99944b",
   "outputs": [
    {
     "data": {
      "text/plain": [
       "<Figure size 640x480 with 2 Axes>"
      ],
      "image/png": "[encoded data removed]"
     },
     "metadata": {},
     "output_type": "display_data"
    }
   ],
   "execution_count": 25
  },
  {
   "metadata": {},
   "cell_type": "markdown",
   "source": "### Training Decision Tree",
   "id": "cb434ffbfcc911c9"
  },
  {
   "metadata": {
    "ExecuteTime": {
     "end_time": "2025-03-30T09:43:58.678820Z",
     "start_time": "2025-03-30T09:43:10.563547Z"
    }
   },
   "cell_type": "code",
   "source": [
    "print(\"Train Decision Tree without augmented images added\")\n",
    "print(f\"Training set size of {len(X_train)} with {len(X_train.columns)} features\")\n",
    "print(f\"{len(y_train)} labels\")\n",
    "\n",
    "# Train without augmented images\n",
    "tree = DecisionTreeClassifier()\n",
    "tree.fit(X_train, y_train)\n",
    "train_predictions = tree.predict(X_train)\n",
    "test_predictions = tree.predict(X_test)\n",
    "\n",
    "train_acc = accuracy_score(y_train, train_predictions)\n",
    "test_acc = accuracy_score(y_test, test_predictions)\n",
    "print(\"Training Accuracy:\", train_acc)\n",
    "print(\"Test Accuracy:\", test_acc)"
   ],
   "id": "ea272b689edac5e1",
   "outputs": [
    {
     "name": "stdout",
     "output_type": "stream",
     "text": [
      "Train Decision Tree without augmented images added\n",
      "Training set size of 60000 with 784 features\n",
      "60000 labels\n",
      "Training Accuracy: 1.0\n",
      "Test Accuracy: 0.7957\n"
     ]
    }
   ],
   "execution_count": 17
  },
  {
   "metadata": {
    "ExecuteTime": {
     "end_time": "2025-03-30T09:47:14.176263Z",
     "start_time": "2025-03-30T09:45:32.210765Z"
    }
   },
   "cell_type": "code",
   "source": [
    "# Flatten list of original + augmented images\n",
    "X_train_augmented = [i.flatten() for i in train_images_augmented]\n",
    "print(\"Train Decision Tree with augmented images added\")\n",
    "print(f\"Training set size of {len(X_train_augmented)} with {len(X_train_augmented[0])} features\")\n",
    "print(f\"{len(y_train_augmented)} labels\")\n",
    "\n",
    "# Train with augmented images\n",
    "tree_augmented = DecisionTreeClassifier()\n",
    "tree_augmented.fit(X_train_augmented, y_train_augmented)\n",
    "train_predictions_augmented = tree_augmented.predict(X_train_augmented)\n",
    "test_predictions_augmented = tree_augmented.predict(X_test)\n",
    "\n",
    "train_acc_augmented = accuracy_score(y_train_augmented, train_predictions_augmented)\n",
    "test_acc_augmented = accuracy_score(y_test, test_predictions_augmented)\n",
    "print(\"Training Accuracy:\", train_acc_augmented)\n",
    "print(\"Test Accuracy:\", test_acc_augmented)"
   ],
   "id": "c300554c8ecf273d",
   "outputs": [
    {
     "name": "stdout",
     "output_type": "stream",
     "text": [
      "Train Decision Tree with augmented images added\n",
      "Training set size of 120000 with 784 features\n",
      "120000 labels\n",
      "Training Accuracy: 1.0\n",
      "Test Accuracy: 0.7887\n"
     ]
    },
    {
     "name": "stderr",
     "output_type": "stream",
     "text": [
      "C:\\Users\\limZH\\OneDrive\\NUS\\Y3\\Y3S2\\CS3244\\Project\\venv_pc\\Lib\\site-packages\\sklearn\\utils\\validation.py:2732: UserWarning: X has feature names, but DecisionTreeClassifier was fitted without feature names\n",
      "  warnings.warn(\n"
     ]
    }
   ],
   "execution_count": 19
  },
  {
   "metadata": {},
   "cell_type": "markdown",
   "source": [
    "- Perfect train accuracy but test accuracy is not the best for both cases ; Model is likely to have overfit on training data.\n",
    "- Can consider Random Forest to decrease variance."
   ],
   "id": "27940ce15264783c"
  },
  {
   "metadata": {},
   "cell_type": "markdown",
   "source": "### Train Random Forest",
   "id": "c3d6fc987312ac51"
  },
  {
   "metadata": {
    "ExecuteTime": {
     "end_time": "2025-03-30T09:50:55.528325Z",
     "start_time": "2025-03-30T09:47:14.255358Z"
    }
   },
   "cell_type": "code",
   "source": [
    "print(\"Train Random Forest without augmented images added\")\n",
    "print(f\"Training set size of {len(X_train)} with {len(X_train.columns)} features\")\n",
    "print(f\"{len(y_train)} labels\")\n",
    "\n",
    "# Train without augmented images\n",
    "# Using ideal hyperparameters\n",
    "forest = RandomForestClassifier(\n",
    "    n_estimators=300,\n",
    "    max_depth=30,\n",
    "    min_samples_split=2,\n",
    "    min_samples_leaf=1,\n",
    "    max_features=\"sqrt\",\n",
    "    random_state=42\n",
    ")\n",
    "forest.fit(X_train, y_train)\n",
    "train_predictions = forest.predict(X_train)\n",
    "test_predictions = forest.predict(X_test)\n",
    "\n",
    "train_acc = accuracy_score(y_train, train_predictions)\n",
    "test_acc = accuracy_score(y_test, test_predictions)\n",
    "print(\"Training Accuracy:\", train_acc)\n",
    "print(\"Test Accuracy:\", test_acc)"
   ],
   "id": "74b951066b788243",
   "outputs": [
    {
     "name": "stdout",
     "output_type": "stream",
     "text": [
      "Train Random Forest without augmented images added\n",
      "Training set size of 60000 with 784 features\n",
      "60000 labels\n",
      "Training Accuracy: 0.9999666666666667\n",
      "Test Accuracy: 0.8874\n"
     ]
    }
   ],
   "execution_count": 20
  },
  {
   "metadata": {
    "ExecuteTime": {
     "end_time": "2025-03-30T10:08:06.309923Z",
     "start_time": "2025-03-30T10:00:25.813217Z"
    }
   },
   "cell_type": "code",
   "source": [
    "print(\"Train Random Forest with augmented images added\")\n",
    "print(f\"Training set size of {len(X_train_augmented)} with {len(X_train_augmented[0])} features\")\n",
    "print(f\"{len(y_train_augmented)} labels\")\n",
    "\n",
    "# To train with augmented images\n",
    "# Using ideal hyperparameters\n",
    "forest_augmented = RandomForestClassifier(\n",
    "    n_estimators=300,\n",
    "    max_depth=30,\n",
    "    min_samples_split=2,\n",
    "    min_samples_leaf=1,\n",
    "    max_features=\"sqrt\",\n",
    "    random_state=42\n",
    ")\n",
    "forest_augmented.fit(X_train_augmented, y_train_augmented)\n",
    "train_predictions_augmented = forest_augmented.predict(X_train_augmented)\n",
    "test_predictions_augmented = forest_augmented.predict(X_test)\n",
    "\n",
    "train_acc_augmented = accuracy_score(y_train_augmented, train_predictions_augmented)\n",
    "test_acc_augmented = accuracy_score(y_test, test_predictions_augmented)\n",
    "print(\"Training Accuracy:\", train_acc_augmented)\n",
    "print(\"Test Accuracy:\", test_acc_augmented)"
   ],
   "id": "d6f144196d173867",
   "outputs": [
    {
     "name": "stdout",
     "output_type": "stream",
     "text": [
      "Train Random Forest with augmented images added\n",
      "Training set size of 120000 with 784 features\n",
      "120000 labels\n"
     ]
    },
    {
     "name": "stderr",
     "output_type": "stream",
     "text": [
      "C:\\Users\\limZH\\OneDrive\\NUS\\Y3\\Y3S2\\CS3244\\Project\\venv_pc\\Lib\\site-packages\\sklearn\\utils\\validation.py:2732: UserWarning: X has feature names, but RandomForestClassifier was fitted without feature names\n",
      "  warnings.warn(\n"
     ]
    },
    {
     "name": "stdout",
     "output_type": "stream",
     "text": [
      "Training Accuracy: 0.9997666666666667\n",
      "Test Accuracy: 0.8759\n"
     ]
    }
   ],
   "execution_count": 22
  },
  {
   "metadata": {},
   "cell_type": "markdown",
   "source": "### Confusion Matrix",
   "id": "22beedcfb742c220"
  },
  {
   "metadata": {
    "ExecuteTime": {
     "end_time": "2025-03-30T10:14:37.000389Z",
     "start_time": "2025-03-30T10:14:36.786369Z"
    }
   },
   "cell_type": "code",
   "source": [
    "cm = confusion_matrix(y_test, test_predictions)\n",
    "disp = ConfusionMatrixDisplay(confusion_matrix=cm, display_labels=class_names.values())\n",
    "fig, ax = plt.subplots(figsize=(8, 6))\n",
    "disp.plot(ax=ax, cmap='Blues', colorbar=True)\n",
    "plt.title(\"Confusion Matrix\")\n",
    "plt.xticks(rotation=45)\n",
    "plt.tight_layout()\n",
    "plt.show()"
   ],
   "id": "dff39f62e9d08a2c",
   "outputs": [
    {
     "data": {
      "text/plain": [
       "<Figure size 800x600 with 2 Axes>"
      ],
      "image/png": "[encoded data removed]"
     },
     "metadata": {},
     "output_type": "display_data"
    }
   ],
   "execution_count": 30
  },
  {
   "metadata": {},
   "cell_type": "markdown",
   "source": "### Tune hyperparameters for Random Forest",
   "id": "5c435d2eae5ae90e"
  },
  {
   "metadata": {
    "ExecuteTime": {
     "end_time": "2025-03-30T10:15:04.615917Z",
     "start_time": "2025-03-30T10:15:04.605959Z"
    }
   },
   "cell_type": "code",
   "source": [
    "# Define hyperparameters to tune\n",
    "param_grid = {\n",
    "    'n_estimators': [300],\n",
    "    'max_depth': [20, 30, 40],\n",
    "    'min_samples_split': [2, 5, 10],\n",
    "    'min_samples_leaf': [1, 2, 5],\n",
    "    'max_features': ['sqrt', 0.3],\n",
    "    'bootstrap': [True],\n",
    "}\n",
    "\n",
    "n_combi = 1\n",
    "for i in param_grid:\n",
    "    n_combi *= len(param_grid[i])\n",
    "print(f\"{n_combi} hyperparameter combinations\")"
   ],
   "id": "c84c261a3a9e17d8",
   "outputs": [
    {
     "name": "stdout",
     "output_type": "stream",
     "text": [
      "54 hyperparameter combinations\n"
     ]
    }
   ],
   "execution_count": 31
  },
  {
   "metadata": {},
   "cell_type": "code",
   "source": [
    "# Grid search to find the best combination of hyperparameter\n",
    "# `cv`parameter is for cross validation, which ensures reliable evaluation of each hyperparameter combination\n",
    "# TAKES VERY LONG TO RUN !!! Hyperparameter tuning was done with data size 10000 which took 1.5 hours\n",
    "grid_search = GridSearchCV(RandomForestClassifier(random_state=42), param_grid, cv=5, scoring='accuracy', n_jobs=-1)\n",
    "grid_search.fit(X_train, y_train)"
   ],
   "id": "bf760360913e56f3",
   "outputs": [],
   "execution_count": null
  },
  {
   "metadata": {},
   "cell_type": "code",
   "source": [
    "best_forest = grid_search.best_estimator_\n",
    "best_forest.fit(X_train, y_train)\n",
    "train_predictions = forest.predict(X_train)\n",
    "test_predictions = forest.predict(X_test)\n",
    "\n",
    "train_acc = accuracy_score(y_train, train_predictions)\n",
    "test_acc = accuracy_score(y_test, test_predictions)\n",
    "print(best_forest)\n",
    "print(f\"Min samples split {best_forest.min_samples_split}\")\n",
    "print(f\"Min samples leaf {best_forest.min_samples_leaf}\")\n",
    "print(f\"Max features {best_forest.max_features}\")\n",
    "print(\"Training Accuracy:\", train_acc)\n",
    "print(\"Test Accuracy:\", test_acc)"
   ],
   "id": "353be5a7d424b427",
   "outputs": [],
   "execution_count": null
  },
  {
   "metadata": {},
   "cell_type": "code",
   "source": "",
   "id": "8f7173afbc4fec0e",
   "outputs": [],
   "execution_count": null
  }
 ],
 "metadata": {
  "kernelspec": {
   "display_name": "Python 3",
   "language": "python",
   "name": "python3"
  },
  "language_info": {
   "codemirror_mode": {
    "name": "ipython",
    "version": 2
   },
   "file_extension": ".py",
   "mimetype": "text/x-python",
   "name": "python",
   "nbconvert_exporter": "python",
   "pygments_lexer": "ipython2",
   "version": "2.7.6"
  }
 },
 "nbformat": 4,
 "nbformat_minor": 5
}
