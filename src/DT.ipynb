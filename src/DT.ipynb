{
 "cells": [
  {
   "cell_type": "code",
   "id": "initial_id",
   "metadata": {
    "collapsed": true,
    "ExecuteTime": {
     "end_time": "2025-03-27T16:48:40.777796Z",
     "start_time": "2025-03-27T16:48:33.943676Z"
    }
   },
   "source": [
    "import numpy as np\n",
    "import pandas as pd\n",
    "import matplotlib.pyplot as plt\n",
    "from PIL import Image\n",
    "from torchvision import transforms\n",
    "\n",
    "from sklearn.tree import DecisionTreeClassifier\n",
    "from sklearn.ensemble import RandomForestClassifier\n",
    "from sklearn.model_selection import GridSearchCV\n",
    "from sklearn.metrics import accuracy_score"
   ],
   "outputs": [],
   "execution_count": 1
  },
  {
   "metadata": {},
   "cell_type": "markdown",
   "source": "### Load data and obtain train-test split",
   "id": "299d7d1fc48643d5"
  },
  {
   "metadata": {
    "ExecuteTime": {
     "end_time": "2025-03-27T16:56:30.578196Z",
     "start_time": "2025-03-27T16:56:25.159975Z"
    }
   },
   "cell_type": "code",
   "source": [
    "train_data = pd.read_csv('../../Data/fashion-mnist_train.csv')\n",
    "test_data = pd.read_csv('../../Data/fashion-mnist_test.csv')\n",
    "\n",
    "X_train = train_data.drop('label', axis=1)\n",
    "y_train = train_data['label']\n",
    "X_test = test_data.drop('label', axis=1)\n",
    "y_test = test_data['label']\n",
    "\n",
    "print(f\"Data with {len(X_train.columns)} features\")\n",
    "print(f\"Train set of size {len(X_train)} with {len(y_train)} labels\")\n",
    "print(f\"Test set of size {len(X_test)} with {len(y_test)} labels\")"
   ],
   "id": "68ab1e9559dc2cc9",
   "outputs": [
    {
     "name": "stdout",
     "output_type": "stream",
     "text": [
      "Data with 784 features\n",
      "Train set of size 60000 with 60000 labels\n",
      "Test set of size 10000 with 10000 labels\n"
     ]
    }
   ],
   "execution_count": 16
  },
  {
   "metadata": {},
   "cell_type": "markdown",
   "source": "### Augment images for train set",
   "id": "5182de71eca3897d"
  },
  {
   "metadata": {
    "ExecuteTime": {
     "end_time": "2025-03-27T16:59:33.778429Z",
     "start_time": "2025-03-27T16:57:03.204327Z"
    }
   },
   "cell_type": "code",
   "source": [
    "# Format each image as 28x28 matrix (For augmentation purposes)\n",
    "train_images = []\n",
    "for index, i in X_train.iterrows():\n",
    "    image = []\n",
    "    for _row in range(28):\n",
    "        row = []\n",
    "        for _col in range(28):\n",
    "            row.append(i.iloc[_row*28+_col])\n",
    "        image.append(row)\n",
    "    train_images.append(np.array(image))"
   ],
   "id": "969caa4729dcb868",
   "outputs": [],
   "execution_count": 17
  },
  {
   "metadata": {
    "ExecuteTime": {
     "end_time": "2025-03-27T16:59:42.420592Z",
     "start_time": "2025-03-27T16:59:33.805306Z"
    }
   },
   "cell_type": "code",
   "source": [
    "train_images_augmented = []\n",
    "y_train_augmented = []\n",
    "\n",
    "transform = transforms.Compose([\n",
    "    transforms.RandomHorizontalFlip(),\n",
    "    transforms.RandomVerticalFlip(),\n",
    "    transforms.RandomRotation(30)\n",
    "])\n",
    "\n",
    "for i, _image in enumerate(train_images):\n",
    "    \n",
    "    # One augmented image for each existing image\n",
    "    _image_pil = Image.fromarray(_image.astype('uint8'))\n",
    "    _image_augmented_pil = transform(_image_pil)\n",
    "    _image_augmented = np.array(_image_augmented_pil)\n",
    "\n",
    "    train_images_augmented.append(_image)\n",
    "    train_images_augmented.append(_image_augmented)\n",
    "\n",
    "    y_train_augmented.append(y_train[i])\n",
    "    y_train_augmented.append(y_train[i])"
   ],
   "id": "813e2f355416af8d",
   "outputs": [],
   "execution_count": 18
  },
  {
   "metadata": {
    "ExecuteTime": {
     "end_time": "2025-03-27T17:01:01.329429Z",
     "start_time": "2025-03-27T17:01:01.241510Z"
    }
   },
   "cell_type": "code",
   "source": [
    "# To visualise sample augmented image\n",
    "sample_image = train_images_augmented[8]\n",
    "sample_image_augmented = train_images_augmented[9]\n",
    "\n",
    "fig,ax = plt.subplots(1,2)\n",
    "ax[0].imshow(sample_image, cmap='gray')\n",
    "ax[0].axis('off')\n",
    "ax[0].set_title(f\"Original image (Label '{y_train_augmented[8]}')\")\n",
    "ax[1].imshow(sample_image_augmented, cmap='gray')\n",
    "ax[1].axis('off')\n",
    "ax[1].set_title(f\"Augmented image (Label '{y_train_augmented[9]}')\")\n",
    "fig.tight_layout()\n",
    "plt.show()"
   ],
   "id": "9c8a732fb99944b",
   "outputs": [
    {
     "data": {
      "text/plain": [
       "<Figure size 640x480 with 2 Axes>"
      ],
      "image/png": "[encoded data removed]"
     },
     "metadata": {},
     "output_type": "display_data"
    }
   ],
   "execution_count": 22
  },
  {
   "metadata": {},
   "cell_type": "markdown",
   "source": "### Training Decision Tree",
   "id": "cb434ffbfcc911c9"
  },
  {
   "metadata": {
    "ExecuteTime": {
     "end_time": "2025-03-27T17:01:14.162314Z",
     "start_time": "2025-03-27T17:01:13.865028Z"
    }
   },
   "cell_type": "code",
   "source": [
    "# Flatten all images\n",
    "X_train_augmented = [i.flatten() for i in train_images_augmented]\n",
    "\n",
    "print(f\"{len(X_train_augmented)} input with {len(X_train_augmented[0])} features\")\n",
    "print(f\"{len(y_train_augmented)} labels\")"
   ],
   "id": "5a9082192681c763",
   "outputs": [
    {
     "name": "stdout",
     "output_type": "stream",
     "text": [
      "120000 input with 784 features\n",
      "120000 labels\n"
     ]
    }
   ],
   "execution_count": 23
  },
  {
   "metadata": {
    "ExecuteTime": {
     "end_time": "2025-03-27T17:02:20.102098Z",
     "start_time": "2025-03-27T17:01:37.586551Z"
    }
   },
   "cell_type": "code",
   "source": [
    "# Train without augmented images\n",
    "tree = DecisionTreeClassifier()\n",
    "tree.fit(X_train, y_train)\n",
    "train_predictions = tree.predict(X_train)\n",
    "test_predictions = tree.predict(X_test)\n",
    "\n",
    "train_acc = accuracy_score(y_train, train_predictions)\n",
    "test_acc = accuracy_score(y_test, test_predictions)\n",
    "print(\"Training Accuracy:\", train_acc)\n",
    "print(\"Test Accuracy:\", test_acc)"
   ],
   "id": "ea272b689edac5e1",
   "outputs": [
    {
     "name": "stdout",
     "output_type": "stream",
     "text": [
      "Training Accuracy: 1.0\n",
      "Test Accuracy: 0.7958\n"
     ]
    }
   ],
   "execution_count": 24
  },
  {
   "metadata": {
    "ExecuteTime": {
     "end_time": "2025-03-27T17:10:21.736153Z",
     "start_time": "2025-03-27T17:09:03.997877Z"
    }
   },
   "cell_type": "code",
   "source": [
    "# Train with augmented images\n",
    "tree = DecisionTreeClassifier()\n",
    "tree.fit(X_train_augmented, y_train_augmented)\n",
    "train_predictions = tree.predict(X_train_augmented)\n",
    "test_predictions = tree.predict(X_test)\n",
    "\n",
    "train_acc = accuracy_score(y_train_augmented, train_predictions)\n",
    "test_acc = accuracy_score(y_test, test_predictions)\n",
    "print(\"Training Accuracy:\", train_acc)\n",
    "print(\"Test Accuracy:\", test_acc)"
   ],
   "id": "c300554c8ecf273d",
   "outputs": [
    {
     "name": "stdout",
     "output_type": "stream",
     "text": [
      "Training Accuracy: 1.0\n",
      "Test Accuracy: 0.7862\n"
     ]
    },
    {
     "name": "stderr",
     "output_type": "stream",
     "text": [
      "C:\\Users\\limZH\\OneDrive\\NUS\\Y3\\Y3S2\\CS3244\\Project\\venv_pc\\Lib\\site-packages\\sklearn\\utils\\validation.py:2732: UserWarning: X has feature names, but DecisionTreeClassifier was fitted without feature names\n",
      "  warnings.warn(\n"
     ]
    }
   ],
   "execution_count": 26
  },
  {
   "metadata": {},
   "cell_type": "markdown",
   "source": [
    "- Perfect train accuracy but test accuracy is not the best for both cases ; Model is likely to have overfit on training data.\n",
    "- Can consider Random Forest to decrease variance."
   ],
   "id": "27940ce15264783c"
  },
  {
   "metadata": {},
   "cell_type": "markdown",
   "source": "### Train Random Forest",
   "id": "c3d6fc987312ac51"
  },
  {
   "metadata": {
    "ExecuteTime": {
     "end_time": "2025-03-27T17:21:26.684600Z",
     "start_time": "2025-03-27T17:16:56.303939Z"
    }
   },
   "cell_type": "code",
   "source": [
    "# Train without augmented images\n",
    "# Using ideal hyperparameters\n",
    "forest = RandomForestClassifier(\n",
    "    n_estimators=300,\n",
    "    max_depth=30,\n",
    "    min_samples_split=2,\n",
    "    min_samples_leaf=1,\n",
    "    max_features=\"sqrt\",\n",
    "    random_state=42\n",
    ")\n",
    "forest.fit(X_train, y_train)\n",
    "train_predictions = forest.predict(X_train)\n",
    "test_predictions = forest.predict(X_test)\n",
    "\n",
    "train_acc = accuracy_score(y_train, train_predictions)\n",
    "test_acc = accuracy_score(y_test, test_predictions)\n",
    "print(\"Training Accuracy:\", train_acc)\n",
    "print(\"Test Accuracy:\", test_acc)"
   ],
   "id": "74b951066b788243",
   "outputs": [
    {
     "name": "stdout",
     "output_type": "stream",
     "text": [
      "Training Accuracy: 0.9999666666666667\n",
      "Test Accuracy: 0.8874\n"
     ]
    }
   ],
   "execution_count": 31
  },
  {
   "metadata": {
    "ExecuteTime": {
     "end_time": "2025-03-27T17:29:03.233016Z",
     "start_time": "2025-03-27T17:21:26.765411Z"
    }
   },
   "cell_type": "code",
   "source": [
    "# To train with augmented images\n",
    "# Using ideal hyperparameters\n",
    "forest = RandomForestClassifier(\n",
    "    n_estimators=300,\n",
    "    max_depth=30,\n",
    "    min_samples_split=2,\n",
    "    min_samples_leaf=1,\n",
    "    max_features=\"sqrt\",\n",
    "    random_state=42\n",
    ")\n",
    "forest.fit(X_train_augmented, y_train_augmented)\n",
    "train_predictions = forest.predict(X_train_augmented)\n",
    "test_predictions = forest.predict(X_test)\n",
    "\n",
    "train_acc = accuracy_score(y_train_augmented, train_predictions)\n",
    "test_acc = accuracy_score(y_test, test_predictions)\n",
    "print(\"Training Accuracy:\", train_acc)\n",
    "print(\"Test Accuracy:\", test_acc)"
   ],
   "id": "d6f144196d173867",
   "outputs": [
    {
     "name": "stderr",
     "output_type": "stream",
     "text": [
      "C:\\Users\\limZH\\OneDrive\\NUS\\Y3\\Y3S2\\CS3244\\Project\\venv_pc\\Lib\\site-packages\\sklearn\\utils\\validation.py:2732: UserWarning: X has feature names, but RandomForestClassifier was fitted without feature names\n",
      "  warnings.warn(\n"
     ]
    },
    {
     "name": "stdout",
     "output_type": "stream",
     "text": [
      "Training Accuracy: 0.9997083333333333\n",
      "Test Accuracy: 0.8755\n"
     ]
    }
   ],
   "execution_count": 32
  },
  {
   "metadata": {},
   "cell_type": "markdown",
   "source": "### Tune hyperparameters for Random Forest",
   "id": "5c435d2eae5ae90e"
  },
  {
   "metadata": {
    "ExecuteTime": {
     "end_time": "2025-03-27T17:29:36.162707Z",
     "start_time": "2025-03-27T17:29:36.158942Z"
    }
   },
   "cell_type": "code",
   "source": [
    "# Define hyperparameters to tune\n",
    "param_grid = {\n",
    "    'n_estimators': [300],\n",
    "    'max_depth': [20, 30, 40],\n",
    "    'min_samples_split': [2, 5, 10],\n",
    "    'min_samples_leaf': [1, 2, 5],\n",
    "    'max_features': ['sqrt', 0.3],\n",
    "    'bootstrap': [True],\n",
    "}\n",
    "\n",
    "n_combi = 1\n",
    "for i in param_grid:\n",
    "    n_combi *= len(param_grid[i])\n",
    "print(f\"{n_combi} hyperparameter combinations\")"
   ],
   "id": "c84c261a3a9e17d8",
   "outputs": [
    {
     "name": "stdout",
     "output_type": "stream",
     "text": [
      "54 hyperparameter combinations\n"
     ]
    }
   ],
   "execution_count": 33
  },
  {
   "metadata": {},
   "cell_type": "code",
   "source": [
    "# Grid search to find the best combination of hyperparameter\n",
    "# `cv`parameter is for cross validation, which ensures reliable evaluation of each hyperparameter combination\n",
    "# TAKES VERY LONG TO RUN !!! Hyperparameter tuning was done with data size 10000 which took 1.5 hours\n",
    "grid_search = GridSearchCV(RandomForestClassifier(random_state=42), param_grid, cv=5, scoring='accuracy', n_jobs=-1)\n",
    "grid_search.fit(X_train, y_train)"
   ],
   "id": "bf760360913e56f3",
   "outputs": [],
   "execution_count": null
  },
  {
   "metadata": {},
   "cell_type": "code",
   "source": [
    "best_forest = grid_search.best_estimator_\n",
    "best_forest.fit(X_train, y_train)\n",
    "train_predictions = forest.predict(X_train)\n",
    "test_predictions = forest.predict(X_test)\n",
    "\n",
    "train_acc = accuracy_score(y_train, train_predictions)\n",
    "test_acc = accuracy_score(y_test, test_predictions)\n",
    "print(best_forest)\n",
    "print(f\"Min samples split {best_forest.min_samples_split}\")\n",
    "print(f\"Min samples leaf {best_forest.min_samples_leaf}\")\n",
    "print(f\"Max features {best_forest.max_features}\")\n",
    "print(\"Training Accuracy:\", train_acc)\n",
    "print(\"Test Accuracy:\", test_acc)"
   ],
   "id": "353be5a7d424b427",
   "outputs": [],
   "execution_count": null
  },
  {
   "metadata": {},
   "cell_type": "code",
   "source": "",
   "id": "8f7173afbc4fec0e",
   "outputs": [],
   "execution_count": null
  }
 ],
 "metadata": {
  "kernelspec": {
   "display_name": "Python 3",
   "language": "python",
   "name": "python3"
  },
  "language_info": {
   "codemirror_mode": {
    "name": "ipython",
    "version": 2
   },
   "file_extension": ".py",
   "mimetype": "text/x-python",
   "name": "python",
   "nbconvert_exporter": "python",
   "pygments_lexer": "ipython2",
   "version": "2.7.6"
  }
 },
 "nbformat": 4,
 "nbformat_minor": 5
}
